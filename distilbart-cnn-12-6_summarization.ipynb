{
 "cells": [
  {
   "cell_type": "markdown",
   "metadata": {},
   "source": [
    "### Paper\n",
    "\n",
    "*[German also Hallucinates! Inconsistency Detection in News\n",
    "Summaries with the Absinth Dataset](https://aclanthology.org/2024.lrec-main.680.pdf)*"
   ]
  },
  {
   "cell_type": "code",
   "execution_count": 1,
   "metadata": {},
   "outputs": [],
   "source": [
    "from transformers import pipeline\n",
    "from datasets import load_dataset\n",
    "from tqdm.auto import tqdm\n",
    "import random"
   ]
  },
  {
   "cell_type": "markdown",
   "metadata": {},
   "source": [
    "### Model\n",
    "\n",
    "*[sshleifer/distilbart-cnn-12-6](https://huggingface.co/sshleifer/distilbart-cnn-12-6)*"
   ]
  },
  {
   "cell_type": "code",
   "execution_count": 2,
   "metadata": {},
   "outputs": [],
   "source": [
    "MAX_LEN = 1024"
   ]
  },
  {
   "cell_type": "code",
   "execution_count": 3,
   "metadata": {},
   "outputs": [],
   "source": [
    "summarizer = pipeline(\"summarization\", model=\"sshleifer/distilbart-cnn-12-6\")"
   ]
  },
  {
   "cell_type": "code",
   "execution_count": 4,
   "metadata": {},
   "outputs": [],
   "source": [
    "def summarize_text(input_text):\n",
    "    summary_text = summarizer(input_text[:MAX_LEN], min_length=5, max_length=200)[0][\"summary_text\"]\n",
    "    return summary_text"
   ]
  },
  {
   "cell_type": "markdown",
   "metadata": {},
   "source": [
    "### Dataset\n",
    "\n",
    "*[jonathandechert/20Minuten](https://huggingface.co/datasets/jonathandechert/20Minuten)*"
   ]
  },
  {
   "cell_type": "code",
   "execution_count": 5,
   "metadata": {},
   "outputs": [
    {
     "data": {
      "text/plain": [
       "Dataset({\n",
       "    features: ['original', 'simplification'],\n",
       "    num_rows: 200\n",
       "})"
      ]
     },
     "execution_count": 5,
     "metadata": {},
     "output_type": "execute_result"
    }
   ],
   "source": [
    "twenty_minutes_ds = load_dataset(\"jonathandechert/20Minuten\", split=\"test\")\n",
    "twenty_minutes_ds"
   ]
  },
  {
   "cell_type": "code",
   "execution_count": 6,
   "metadata": {},
   "outputs": [],
   "source": [
    "def sample_20minutes(n_samples=5):\n",
    "    dataset_len = len(twenty_minutes_ds)\n",
    "    sample_indices = random.sample(range(dataset_len), n_samples)\n",
    "    for i in sample_indices:\n",
    "        cur_text = twenty_minutes_ds[i][\"original\"]\n",
    "        print(len(cur_text))\n",
    "        print(cur_text)\n",
    "        print()\n",
    "\n",
    "        summary_text = summarize_text(cur_text)\n",
    "        print(summary_text)\n",
    "        print(\"-\"*100)\n"
   ]
  },
  {
   "cell_type": "code",
   "execution_count": 7,
   "metadata": {},
   "outputs": [
    {
     "name": "stdout",
     "output_type": "stream",
     "text": [
      "5177\n",
      "Sollen Primaten, etwa Schimpansen, Lemuren oder Totenkopfäffchen, durch Grundrechte geschützt werden? Darüber wird in Basel-Stadt bald abgestimmt. Die entsprechende Initiative wurde von der Organisation Sentience Politics (siehe unten) eingereicht und am Mittwoch vom Bundesgericht für gültig erklärt. Konkret verlangt der Initiativtext, dass das Recht von nichtmenschlichen Primaten auf Leben und auf körperliche und geistige Unversehrtheit in der Verfassung festgehalten wird. Das wäre weltweit ein Novum. Im Positionspapier zur Initiative heisst es, das Erlangen von Grundrechten sei historisch gesehen von zentraler Bedeutung gewesen für Gruppen, die zuvor rechtlich nicht ernst genommen worden seien. So seien etwa Schwarze, Frauen, Behinderte und andere Gruppen erst nachträglich in den Kreis derer aufgenommen worden, welche den Schutz durch Grundrechte geniessen. Vergleichen die Initianten also Affen mit Frauen oder Schwarzen? Werden Tierversuche an Affen und die Zoohaltung bald verboten? Und kriegen die Tiere Schadenersatz, wenn ein Affenanwalt den Prozess gewinnt? Wir beantworten die wichtigsten Fragen. Den Initianten geht es hauptsächlich um Tierversuche. Sie stören sich daran, dass wir teils unter qualvollsten Bedingungen an Primaten forschen. Deshalb fordern sie, dass Primaten ähnlich wie Menschen Grundrechte erhalten. Meret Schneider verneint vehement: Natürlich setze ich Primaten nicht ansatzweise mit Schwarzen oder Frauen gleich! Bei dem Vergleich geht es rein um die Etablierung von Rechten auf dem Weg der Antidiskriminierung, nicht im Ansatz um Gleichsetzung. Im Falle einer Annahme der Initiative in Basel-Stadt wären Private wie etwa der Basler Zoo von den Regelungen ausgenommen, der Kanton, die Gemeinden und öffentliche Einrichtungen wie Spitäler oder Universitäten wären künftig aber verpflichtet, das Recht der Primaten auf körperliche und geistige Unversehrtheit zu gewährleisten. Unser Ziel ist es, dass diese Regelungen früher oder später in der ganzen Schweiz für alle gelten, sagt die Grünen-Nationalrätin und Mitinitiantin Meret Schneider. Wenig Verständnis hat Daniela Suter, Geschäftsleiterin von Gen Suisse, für das Anliegen, Tierversuche gänzlich zu verbieten (siehe Interview unten). Laut Schneider wäre es in herkömmlichen Zoos nicht mehr möglich, Affen zu halten. Es gibt aber auch sogenannte Animal Sanctuarys, wo die Tiere in einem natürlichen und ausreichend grossen Umfeld leben können. Solche Einrichtungen könnten weiterhin erlaubt sein. Markus Wild, Professor für Theoretische Philosophie an der Universität Basel, erklärt: Es ist derzeit keine Ausweitung sämtlicher Grundrechte der Menschen auf Primaten geplant. Es wäre auch nicht vernünftig, Affen etwa Religionsfreiheit zu garantieren. Bezüglich Familiennachzug lässt sich aber sagen: Schon jetzt kann ein Zoo nicht einfach einen einzelnen Affen importieren und halten, sondern muss diesen artgerecht in einer Gruppe unterbringen. Wenn man so will, sind wir in der Schweiz bei Primaten in Sachen Familiennachzug weiter als bei Menschen. Diese Idee ist laut Wild nicht abwegig: Es gab in Zürich bereits einmal einen Tieranwalt, und im österreichischen Kärnten gibt es einen Bärenanwalt. Es ist klar, jemand muss die Einhaltung der Tier-Grundrechte überprüfen, da die Tiere selber ja nicht für ihre Rechte einstehen können. Für Nationalrätin Schneider müssten Verletzungen der Tier-Grundrechte als Offizialdelikte behandelt werden: Es braucht von den Behörden beauftragte Anwälte, welche Hinweisen von Tierrechtsverletzungen nachgehen und auch selber Kontrollen durchführen und Verstösse zur Anklage bringen. Die juristischen Details sind laut Schneider derzeit noch ungeklärt. Nirgends auf der Welt gibt es bislang Grundrechte für Tiere, wir würden also einen Präzedenzfall schaffen. Sie könnte sich das etwa so vorstellen: Angenommen, jemand verletzt das Recht eines Affen auf körperliche Unversehrtheit, indem er ihn lange auf zu engem Raum einsperrt. Gewinnt der Anwalt des Affen den Prozess, könnte das Gericht den Täter dazu verurteilen, für die Kosten einer Unterbringung in einem Animal Sanctuary aufzukommen, bis das Tier allenfalls wieder ausgewildert werden kann. Nein, das ist auch nicht das Ziel der Initianten. Schneider erklärt: Die Grundrechte sollen den Tieren etwas bringen. Wenn jemand über Affen herzieht oder andere beleidigend als Affen beschimpft, hat das auf die Affen selber keinen Einfluss, weil sie das ja nicht verstehen. Wir wollen Affen auch nicht das Recht geben, zu heiraten, oder Hühner in die Schule schicken, um ihnen Bildung zu ermöglichen. Für Markus Wild ist dies durchaus vorstellbar: Eine Vision der Tierrechtsbewegung ist, dass man die Grundrechte in ferner Zukunft auf alle Säugetierarten ausweiten könnte. Bis dahin sei es aber noch ein sehr langer Weg: Das würde bedeuten, dass wir unsere Essensgewohnheiten komplett umstellen müssten, dafür braucht es wohl noch Generationen. Vor dem Hintergrund, dass der heutige Umgang der Menschen mit Tieren bei Pandemien, der Klimaerwärmung und dem Verlust der Artenvielfalt eine zentrale Rolle spiele, sei es aber nicht auszuschliessen, dass diese Revolution irgendwann kommen werde.\n",
      "\n",
      " Durch Grundrechte geschützt werden, durch Primaten, däch vorrechten, auf körperliche und geistige Unversehrtheit in der Verfassung festgehalten wird . Das wäre weltweit ein Novum. Sollen Primates, etwa Schimpansen, Lemuren oder Totenkopfäffchen,  durch . Primaten wird in Basel-Stadt bald abgestimmt.\n",
      "----------------------------------------------------------------------------------------------------\n",
      "4442\n",
      "Im Mordfall um das Lehrerpaar aus Bozen erhärtet sich der Verdacht auf Vorsatz. Benno Neumair habe nicht nur die Tötung seiner Eltern genau geplant, sondern auch alles Mögliche getan, um die Ermittler der Polizei in die Irre zu führen. Ein Überblick seiner misslungenen Täuschmanöver. Am 4. Januar gegen 19 Uhr fuhr Benno Neumair mit dem Handy seiner Mutter bis zur Roma-Brücke und versteckte das Gerät hinter einem Gebüsch. Dann kehrte er nach Hause zurück. Zwei Stunden später ging er wieder zur Stelle und schaltete das Handy aus. Dann warf er es weg. Damit versuchte der 30-Jährige die Ermittlungen in eine falsche Richtung zu lenken. Die Polizei sollte glauben, dass Laura Perselli bis zur Roma-Brücke gefahren war und sich dort zwei Stunden aufgehalten hatte, bevor sie Opfer eines Verbrechens oder eines Unfalls geworden wäre. Am Anfang funktionierte Bennos Trick. Nachdem die Sicherheitskräfte die Leiche Persellis im Fluss nahe der Ortschaft Neumarkt im Südtirol entdeckte, wunderten sich die Ermittler, wieso das letzte Signal des Handys bei der Roma-Brücke empfangen worden war. Was aber wirklich passiert war: Benno Neumair tötete seine Mutter gegen 18.45 Uhr, als sie gerade nach Hause kam. Später an dem Abend entsorgte er ihre Leiche beim Ponte die Vadena, etwa 14 Kilometer von Ponte Roma entfernt. Weitere 16 Kilometer flussabwärts liegt Neumarkt, die Fundstelle der Leiche. Nachdem Benno Neumair zuerst seinen Vater Peter Neumair und dann seine Mutter Laura Perselli im Wohnzimmer des Familienhauses in Bozen getötet hatte, reinigte er den Fussboden, um die Blutflecken komplett verschwinden zu lassen. Zu diesem Zweck hatte er bereits zuvor einen 5-Liter-Kanister Wasserstoffperoxid und zwei neue Mopps besorgt. Er wusch die rund zwei Quadratmeter grosse Stelle so intensiv, dass die Fugen zwischen den Fliessen viel heller wirkten, als im Rest des Zimmers. Der Unterschied war mit blossem Auge zu erkennen. Als die Polizei ihn dazu befragte, gab Benno Neumair an, der Hund habe sich übergeben. Die genaue Untersuchung der Stelle durch Experten der Spurensicherung konnte seine Aussage nicht bestätigen. In den Tagen nach dem Verschwinden seiner Eltern - noch bevor die Leiche von Laura Perselli entdeckt wurde - versuchte Benno Neumair, die Spürhunde der Polizei zu täuschen. Er übergab der Polizei Schuhe, damit die Hunde daran riechen konnten. Doch statt Schuhe der Mutter waren es Schuhe seiner Schwester Madé. Er gab auch ein paar Herren-Hausschuhe ab, die allerdings nicht Peter Neumair gehörten. Bei der Suche durch Bozen und Umgebung nach dem vermissten Elternpaar konnten die Hunde keine Hinweise liefern. Auch dafür hatte Benno Neumair gesorgt, indem er seine Kollegin Jasmine bat, eine Jacke von Peter Neumair zu tragen, und damit durch die Gegend zu schlendern. Die italienische Justiz will Vorsatz im Tötungsdelikt von Bozen nachweisen. Dafür spielt der Tathergang eine zentrale Rolle. In seinem Geständnis gab Benno Neumair an, dass er zuerst seinen Vater und gerade anschliessend seine Mutter getötet hatte. Als ich noch das Seil hielt, hörte ich, wie sich die Haustüre öffnete: Es war meine Mutter, die hereinkam, soll er laut Corriere della Sera gesagt haben. Er habe Laura Perselli getötet, noch bevor sie ihren Mantel ausziehen konnte. Die Ermittler glauben Bennos Version nicht. Der Tatverdächtige wolle lediglich einer lebenslange Haftstrafe entkommen, die ihm jedoch bevorstehen würde, sollte sich Vorsatz nachweisen lassen. Laut den Untersuchungen wurde Peter Neumair mindestens anderthalb Stunden vor seiner Ehefrau getötet. Der Familienvater kehrte gegen 15.30 Uhr nach Hause zurück. Um 16 Uhr las er bereits eine Whatsapp-Nachricht nicht, die ihm ein anderes Familienmitglied geschickt hatte. Peter Neumair muss zu diesem Zeitpunkt bereits tot gewesen sein, so die These der Ermittler. Laura Perselli kam um 18.45 Uhr nach Hause. Benno Neumair wartete also in dieser Zeit auf seine Mutter, um sie ebenfalls zu erwürgen, während er schon plante, die Leichen der beiden beim Ponte di Vadena in der Etsch zu entsorgen. Wie das Portal Alto Adige berichtet, hatte Benno Neumair die Absicht, nach Indien zu reisen. Rund drei Wochen nach dem Mord, kurz vor seiner Festnahme, erzählte er einem Freund in Deutschland, dass er eine Reise nach Indien plane. Am 29. Januar wurde der 30-jährige Sohn von Peter Neumair und Laura Perselli in Gewahrsam genommen. Er bleibt wegen Fluchtgefahr in Untersuchungshaft.\n",
      "\n",
      " Benno Neumair habe nicht nur die Tötung seiner Eltern genau geplant, sondern auch alles Mögliche getan, um die Ermittler der Polizei in die Irre zu führen . Dann warf er es weg. Damit versuchte the Ermittlungen in a falsche Richtung zu lenken .\n",
      "----------------------------------------------------------------------------------------------------\n",
      "1004\n",
      "Kens Kindheit war alles andere als einfach: Seine Mutter und seine Schwester waren heroinabhängig, die Mutter dealte auch zuhause. Mehr als einmal musste Ken seiner Mutter die Spritze aus dem Arm ziehen, wenn sie zugedröhnt am Boden lag. Als Ken 18 war, wurde seine Mutter von einem Junkie erstochen. Er fand sie tot in der Wohnung. Ich hatte nichts mehr, keine Familie, keine Lehrstelle, kein Zuhause und kein Geld. Von den Behörden wurde ich als Sozialfall eingestuft. Zum Essen schickten sie mich in die Gassenküche, obwohl sie wussten, dass ich dort auf jene Menschen treffen werde, die mit meiner Mutter Drogen konsumiert hatten. Von den Behörden fühlte sich der heute 29-Jährige im Stich gelassen. Wie reagieren die Behörden heute in einem solchen Fall? Wir haben mit Christian Kistler von der Kindes- und Erwachsenenschutzbehörde der Stadt Zürich (KESB) gesprochen. Kistler arbeitete zuvor in der Krisenintervention mit erwachsenen Kindern von Drogenabhängigen und auf einer Drogentherapiestation.\n",
      "\n",
      " Christian Kistler von der Kindes- und Erwachsenenschutzbehörde der Stadt Zürich gesprochen . Seine Mutter und seine Schwester waren heroinabhängig, die Mutter dealte auch zuhause . Ken seiner Mutter fanden sie tot in der Wohnung, ihr als einmal musste die Spritze aus dem Arm ziehen .\n",
      "----------------------------------------------------------------------------------------------------\n",
      "1657\n",
      "Alaska will Coronavirus-Impfungen für Touristen an Flughäfen in dem US-Staat verfügbar machen. Gouverneur Mike Dunleavy stellte am Freitag einen Plan vor, um auf diese Weise Touristen nach Alaska zu holen. Das Angebot einer Impfung sei wahrscheinlich ein weiterer guter Grund, um im Sommer in den Staat Alaska zu kommen, sagte Dunleavy. Wir haben Zugang zu den Impfstoffen, also warum nutzen wir das nicht?, sagte er gemäss den Anchorage Daily News. Und weiter: Also wenden wir uns an die Touristen und sagen ihnen: Wenn ihr nach Alaska kommt, erhaltet ihr eure Impfung gratis. An Flughäfen in Anchorage, Fairbanks, Juneau und Ketchikan soll ab 1. Juni geimpft werden. Ende April werde es eine Testphase für reisende Bewohner geben, teilte Heidi Hedberg vom staatlichen Gesundheitsministerium weiter mit. Das Programm steht sowohl US-Bürgern als auch internationalen Gästen offen. Die Idee ist Teil eines grösseren Plans, den Tourismus im nördlichsten aller US-Bundesstaaten wieder anzukurbeln. Dieser umfasst auch eine millionenschwere Werbekampagne und ein Gesuch um 150 Millionen Dollar Hilfsgelder für Tourismusbetriebe. Beschränkungen für Kreuzfahrtschiffe wegen des Coronavirus haben Unternehmen in Alaska schwer getroffen. Dunleavy sagte, Alaska ziehe es noch in Erwägung, wie Florida, die US-Regierung wegen der Einschränkungen zu verklagen. Von den Einwohnern in Alaska im Alter von 16 Jahren oder älter, die darauf Anspruch haben, haben nach Angaben des staatlichen Gesundheitsministeriums rund 40 Prozent eine vollständige Coronavirus-Impfung bekommen. Bei den über 65-Jährigen ist laut Dunleavy bereits eine Durchimpfung von 66 Prozent erreicht.\n",
      "\n",
      " Alaska will implement Coronavirus-Impfungen für Touristen an Flughäfen in dem US-Staat verfügbar machen . Gouverneur Mike Dunleavy stellte am Freitag einen Plan vor .\n",
      "----------------------------------------------------------------------------------------------------\n",
      "2730\n",
      "Am Montag vor einer Woche, kurz vor sechs Uhr, kam es auf der Rosenbergstrasse in St. Gallen, gleich beim Bahnhof, zu einem spektakulären Unfall. Ein Auto landete auf einem Zaun und blieb dort, beinahe schon auf den Gleisen, hängen. Der Lenker flüchtete danach. Nun konnte die Polizei den Unfallverursacher ermitteln. Es handelt sich um einen 19-Jährigen aus der Stadt St. Gallen. Er gab an, dass er vor dem Unfall reichlich Alkohol getrunken hatte. Der Teenager hatte sich betrunken den Autoschlüssel einer Kollegin geschnappt und ist mit dem Mercedes zur Rosenbergstrasse gefahren. Er dürfte auf seiner Fahrt die Höchstgeschwindigkeit deutlich überschritten und diverse Verkehrsregeln verletzt haben, heisst es in der Medienmitteilung der Stadtpolizei St. Gallen. Der 19-Jährige hatte in der Nacht gegen 4.30 Uhr bei der Autobesitzerin geklingelt, weil er bei strömendem Regen unterwegs war und Unterschlupf suchte. Sie gewährte ihm diesen schliesslich und bat ihn später, er möge doch mit dem Hund spazieren gehen, da sie vor der Arbeit noch weiter schlafen wollte, nachdem der 19-Jährige sie geweckt hatte. Damit er und der Hund wieder in die Wohnung kommen, übergab sie ihm ihren Hausschlüssel. Offenbar schnappte sich der junge Mann zudem den Autoschlüssel. So kam es, dass der Teenager Zugang zum Mercedes bekam. Als sie später zur Arbeit gehen wollte, waren ihr Hund, der Kollege und das Auto weg. Die Autobesitzerin ist vom 19-Jährigen schwer enttäuscht. Er hat nicht nur mein Auto einfach so genommen und zu schrott gefahren. Er hatte meinen Hund einfach so zurückgelassen, sagt sie. Der Hund wurde nach dem Unfall in einer Unterführung beim Bahnhof gefunden. Sie ist seither nicht mehr dieselbe. Das Tier sei verstört und schreckhaft. Ganz im Gegensatz zum Zustand vor dem Unfall, als der einjährige Pomeranian immer fröhlich war. Neben dem Hund hatte der Teenager auch eine Flasche Whiskey im Auto zurückgelassen. Seit dem Unfall habe sie vom 19-Jährigen nichts mehr gehört. Nicht einmal eine Entschuldigung. Die Freundschaft mit dem 19-Jährigen ist nun auf eine harte Probe gestellt. Auch von den Behörden wartet noch Ungemach auf den jungen Mann. Denn nach wie vor laufen Ermittlungen zum Unfall. Auf einen Zeugenaufruf meldeten sich rund fünf Zeugen, die den Mercedes oder den Mann beobachten konnten. Laut Stadtpolizei laufen nach wie vor Abklärungen hinsichtlich der Geschwindigkeit und der Missachtung von Verkehrsregeln. Sobald diese abgeschlossen sind, geht der Fall an die Staatsanwaltschaft. Auch das Strassenverkehrsamt wird informiert. Das hat vermutlich zur Folge, dass der Teenager in nächster Zeit keinen Fahrausweis erhalten wird. Zudem entstand beim Unfall ein Schaden von rund hunderttausend Franken.\n",
      "\n",
      " Ein Auto landete auf einem Zaun und blieb dort, beinahe schon auf den Gleisen, hängen . Ein 19-Jährige geschnappt auf der Rosenbergstrasse in St. Gallen, gleich beim Bahnhof . Er gab an, dass er vor dem Unfall reichlich Alkohol getrunken hatte .\n",
      "----------------------------------------------------------------------------------------------------\n"
     ]
    }
   ],
   "source": [
    "sample_20minutes(5)"
   ]
  },
  {
   "cell_type": "markdown",
   "metadata": {},
   "source": [
    "### Probleme\n",
    "\n",
    "Es können nur maximal 1024 Zeichen ins Model gespeist werden.\n",
    "\n",
    "`Token indices sequence length is longer than the specified maximum sequence length for this model (1463 > 1024). Running this sequence through the model will result in indexing errors`"
   ]
  }
 ],
 "metadata": {
  "kernelspec": {
   "display_name": "venv",
   "language": "python",
   "name": "python3"
  },
  "language_info": {
   "codemirror_mode": {
    "name": "ipython",
    "version": 3
   },
   "file_extension": ".py",
   "mimetype": "text/x-python",
   "name": "python",
   "nbconvert_exporter": "python",
   "pygments_lexer": "ipython3",
   "version": "3.11.8"
  }
 },
 "nbformat": 4,
 "nbformat_minor": 2
}
