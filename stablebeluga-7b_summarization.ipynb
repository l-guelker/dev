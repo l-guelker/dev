{
 "cells": [
  {
   "cell_type": "markdown",
   "metadata": {},
   "source": [
    "## Paper\n",
    "\n",
    "*[German also Hallucinates! Inconsistency Detection in News\n",
    "Summaries with the Absinth Dataset](https://aclanthology.org/2024.lrec-main.680.pdf)*"
   ]
  },
  {
   "cell_type": "code",
   "execution_count": 1,
   "metadata": {},
   "outputs": [],
   "source": [
    "from transformers import pipeline\n",
    "from datasets import load_dataset\n",
    "from tqdm.auto import tqdm\n",
    "import random"
   ]
  },
  {
   "cell_type": "markdown",
   "metadata": {},
   "source": [
    "### Model\n",
    "\n",
    "*[stabilityai/StableBeluga-7B](https://huggingface.co/stabilityai/StableBeluga-7B)*"
   ]
  },
  {
   "cell_type": "code",
   "execution_count": 2,
   "metadata": {},
   "outputs": [
    {
     "data": {
      "application/vnd.jupyter.widget-view+json": {
       "model_id": "924bbc8b4b2d4fccb4f95c29880693a3",
       "version_major": 2,
       "version_minor": 0
      },
      "text/plain": [
       "config.json:   0%|          | 0.00/583 [00:00<?, ?B/s]"
      ]
     },
     "metadata": {},
     "output_type": "display_data"
    },
    {
     "name": "stderr",
     "output_type": "stream",
     "text": [
      "d:\\Dokumente\\UNI\\WiSe2024\\lasse-guelker-projektseminar-ws2425\\venv\\Lib\\site-packages\\huggingface_hub\\file_download.py:139: UserWarning: `huggingface_hub` cache-system uses symlinks by default to efficiently store duplicated files but your machine does not support them in C:\\Users\\Lasse\\.cache\\huggingface\\hub\\models--stabilityai--StableBeluga-7B. Caching files will still work but in a degraded version that might require more space on your disk. This warning can be disabled by setting the `HF_HUB_DISABLE_SYMLINKS_WARNING` environment variable. For more details, see https://huggingface.co/docs/huggingface_hub/how-to-cache#limitations.\n",
      "To support symlinks on Windows, you either need to activate Developer Mode or to run Python as an administrator. In order to activate developer mode, see this article: https://docs.microsoft.com/en-us/windows/apps/get-started/enable-your-device-for-development\n",
      "  warnings.warn(message)\n"
     ]
    },
    {
     "data": {
      "application/vnd.jupyter.widget-view+json": {
       "model_id": "5d6b1d79ca7744d9a10ccfb028e9d500",
       "version_major": 2,
       "version_minor": 0
      },
      "text/plain": [
       "model.safetensors.index.json:   0%|          | 0.00/26.8k [00:00<?, ?B/s]"
      ]
     },
     "metadata": {},
     "output_type": "display_data"
    },
    {
     "data": {
      "application/vnd.jupyter.widget-view+json": {
       "model_id": "c2e0c5d30637433cbe1a55676d5cdf83",
       "version_major": 2,
       "version_minor": 0
      },
      "text/plain": [
       "Downloading shards:   0%|          | 0/2 [00:00<?, ?it/s]"
      ]
     },
     "metadata": {},
     "output_type": "display_data"
    },
    {
     "data": {
      "application/vnd.jupyter.widget-view+json": {
       "model_id": "0bc7f581d41a43ddbddd35e7ad9a2592",
       "version_major": 2,
       "version_minor": 0
      },
      "text/plain": [
       "model-00001-of-00002.safetensors:   0%|          | 0.00/9.98G [00:00<?, ?B/s]"
      ]
     },
     "metadata": {},
     "output_type": "display_data"
    },
    {
     "data": {
      "application/vnd.jupyter.widget-view+json": {
       "model_id": "77ed9a2fd10d47c9a64dd077cf070cc8",
       "version_major": 2,
       "version_minor": 0
      },
      "text/plain": [
       "model-00002-of-00002.safetensors:   0%|          | 0.00/3.50G [00:00<?, ?B/s]"
      ]
     },
     "metadata": {},
     "output_type": "display_data"
    },
    {
     "data": {
      "application/vnd.jupyter.widget-view+json": {
       "model_id": "dbc02b31c8214781b1b462f0331e287f",
       "version_major": 2,
       "version_minor": 0
      },
      "text/plain": [
       "Loading checkpoint shards:   0%|          | 0/2 [00:00<?, ?it/s]"
      ]
     },
     "metadata": {},
     "output_type": "display_data"
    },
    {
     "data": {
      "application/vnd.jupyter.widget-view+json": {
       "model_id": "b51d3b4515ed423d8ea7cc568790f1f5",
       "version_major": 2,
       "version_minor": 0
      },
      "text/plain": [
       "generation_config.json:   0%|          | 0.00/137 [00:00<?, ?B/s]"
      ]
     },
     "metadata": {},
     "output_type": "display_data"
    },
    {
     "data": {
      "application/vnd.jupyter.widget-view+json": {
       "model_id": "0881b27574b642758b8c398a5b46858e",
       "version_major": 2,
       "version_minor": 0
      },
      "text/plain": [
       "tokenizer_config.json:   0%|          | 0.00/649 [00:00<?, ?B/s]"
      ]
     },
     "metadata": {},
     "output_type": "display_data"
    },
    {
     "data": {
      "application/vnd.jupyter.widget-view+json": {
       "model_id": "22357770e3d3496cbbea68126260f379",
       "version_major": 2,
       "version_minor": 0
      },
      "text/plain": [
       "tokenizer.model:   0%|          | 0.00/500k [00:00<?, ?B/s]"
      ]
     },
     "metadata": {},
     "output_type": "display_data"
    },
    {
     "data": {
      "application/vnd.jupyter.widget-view+json": {
       "model_id": "50d2f3a8ead846c7aaf62aec74e2c9be",
       "version_major": 2,
       "version_minor": 0
      },
      "text/plain": [
       "tokenizer.json:   0%|          | 0.00/1.84M [00:00<?, ?B/s]"
      ]
     },
     "metadata": {},
     "output_type": "display_data"
    },
    {
     "data": {
      "application/vnd.jupyter.widget-view+json": {
       "model_id": "1a7dc1762d694f72bfe32f4200e19697",
       "version_major": 2,
       "version_minor": 0
      },
      "text/plain": [
       "special_tokens_map.json:   0%|          | 0.00/411 [00:00<?, ?B/s]"
      ]
     },
     "metadata": {},
     "output_type": "display_data"
    },
    {
     "name": "stderr",
     "output_type": "stream",
     "text": [
      "You are using the default legacy behaviour of the <class 'transformers.models.llama.tokenization_llama_fast.LlamaTokenizerFast'>. This is expected, and simply means that the `legacy` (previous) behavior will be used so nothing changes for you. If you want to use the new behaviour, set `legacy=False`. This should only be set if you understand what it means, and thoroughly read the reason why this was added as explained in https://github.com/huggingface/transformers/pull/24565 - if you loaded a llama tokenizer from a GGUF file you can ignore this message.\n"
     ]
    }
   ],
   "source": [
    "pipe = pipeline(\"text-generation\", model=\"stabilityai/StableBeluga-7B\")"
   ]
  },
  {
   "cell_type": "code",
   "execution_count": 3,
   "metadata": {},
   "outputs": [],
   "source": [
    "summarize_prompt = \"Fasse den folgenden Artikel auf maximal 200 Zeichen zusammen. Mache den Zusammenfassung mithilfe von '###OUTPUT:' erkennbar. Artikel: \""
   ]
  },
  {
   "cell_type": "code",
   "execution_count": 4,
   "metadata": {},
   "outputs": [],
   "source": [
    "def summarize_text(input_text):\n",
    "    prompt = summarize_prompt + \"\\n\" + input_text\n",
    "    print(\"Prompt: \" + prompt)\n",
    "    summary_text = pipe(prompt, min_length=5, max_length=1000)[0][\"generated_text\"]\n",
    "    return summary_text"
   ]
  },
  {
   "cell_type": "code",
   "execution_count": 5,
   "metadata": {},
   "outputs": [
    {
     "name": "stderr",
     "output_type": "stream",
     "text": [
      "Truncation was not explicitly activated but `max_length` is provided a specific value, please use `truncation=True` to explicitly truncate examples to max length. Defaulting to 'longest_first' truncation strategy. If you encode pairs of sequences (GLUE-style) with the tokenizer you can select this strategy more precisely by providing a specific strategy to `truncation`.\n"
     ]
    },
    {
     "name": "stdout",
     "output_type": "stream",
     "text": [
      "Prompt: Fasse den folgenden Artikel auf maximal 200 Zeichen zusammen. Mache den Zusammenfassung mithilfe von '###OUTPUT:' erkennbar. Artikel: \n",
      "Diese Liste führt die Erfolge des Snookerspielers John Higgins auf. Der Schotte Higgins ist seit 1992 durchgehend Profispieler und gewann in dieser Zeit zahlreiche Turniere, darunter vier Mal die Snookerweltmeisterschaft. Da er auch bei der UK Championship und dem Masters siegte, gehört er zu den Spielern der sogenannten Triple Crown.\n"
     ]
    },
    {
     "name": "stderr",
     "output_type": "stream",
     "text": [
      "Starting from v4.46, the `logits` model output will have the same type as the model (except at train time, where it will always be FP32)\n"
     ]
    }
   ],
   "source": [
    "result = summarize_text(\"Diese Liste führt die Erfolge des Snookerspielers John Higgins auf. Der Schotte Higgins ist seit 1992 durchgehend Profispieler und gewann in dieser Zeit zahlreiche Turniere, darunter vier Mal die Snookerweltmeisterschaft. Da er auch bei der UK Championship und dem Masters siegte, gehört er zu den Spielern der sogenannten Triple Crown.\")"
   ]
  },
  {
   "cell_type": "code",
   "execution_count": 6,
   "metadata": {},
   "outputs": [
    {
     "name": "stdout",
     "output_type": "stream",
     "text": [
      "Fasse den folgenden Artikel auf maximal 200 Zeichen zusammen. Mache den Zusammenfassung mithilfe von '###OUTPUT:' erkennbar. Artikel: \n",
      "Diese Liste führt die Erfolge des Snookerspielers John Higgins auf. Der Schotte Higgins ist seit 1992 durchgehend Profispieler und gewann in dieser Zeit zahlreiche Turniere, darunter vier Mal die Snookerweltmeisterschaft. Da er auch bei der UK Championship und dem Masters siegte, gehört er zu den Spielern der sogenannten Triple Crown.\n",
      "\n",
      "John Higgins ist ein schottischer Snooker-Spieler, der seit 1992 als Profispieler aktiv ist. Er hat in dieser Zeit zahlreiche Erfolge erzielt, darunter vier Mal die Snookerweltmeisterschaft gewonnen. Des Weiteren ist er Sieger der UK Championship und des Masters. Dadurch gehört er zu den Spielern der sogenannten Triple Crown.\n"
     ]
    }
   ],
   "source": [
    "print(result)"
   ]
  },
  {
   "cell_type": "markdown",
   "metadata": {},
   "source": [
    "### Dataset\n",
    "*[jonathandechert/20Minuten](https://huggingface.co/datasets/jonathandechert/20Minuten)*"
   ]
  },
  {
   "cell_type": "code",
   "execution_count": 7,
   "metadata": {},
   "outputs": [],
   "source": [
    "twenty_minutes_ds = load_dataset(\"jonathandechert/20Minuten\", split=\"test\")"
   ]
  },
  {
   "cell_type": "code",
   "execution_count": 8,
   "metadata": {},
   "outputs": [
    {
     "data": {
      "text/plain": [
       "Dataset({\n",
       "    features: ['original', 'simplification'],\n",
       "    num_rows: 200\n",
       "})"
      ]
     },
     "execution_count": 8,
     "metadata": {},
     "output_type": "execute_result"
    }
   ],
   "source": [
    "twenty_minutes_ds"
   ]
  },
  {
   "cell_type": "code",
   "execution_count": 9,
   "metadata": {},
   "outputs": [],
   "source": [
    "def sample_20minutes(n_samples=5):\n",
    "    dataset_len = len(twenty_minutes_ds)\n",
    "    sample_indices = random.sample(range(dataset_len), n_samples)\n",
    "    for i in sample_indices:\n",
    "        cur_text = twenty_minutes_ds[i][\"original\"]\n",
    "        summary_text = summarize_text(cur_text)\n",
    "        print(cur_text)\n",
    "        print()\n",
    "        print(summary_text)\n",
    "        print(\"-\"*50)"
   ]
  },
  {
   "cell_type": "code",
   "execution_count": 12,
   "metadata": {},
   "outputs": [
    {
     "name": "stdout",
     "output_type": "stream",
     "text": [
      "Prompt: Fasse den folgenden Artikel auf maximal 200 Zeichen zusammen. Mache den Zusammenfassung mithilfe von '###OUTPUT:' erkennbar. Artikel: \n",
      "Rapperin Cardi B (28) nimmt es auf Twitter mit Peppa Pig auf. Denn Cardis Tochter Kulture (2) ist so besessen von der britischen Zeichentrickfigur, dass sie derzeit - wie ihr grosses Vorbild - in jede Regenpfütze springen will. Dieser Scheiss geht mir so auf die Nerven! Sie macht ihre Uggs kaputt, schreibt Cardi jetzt genervt auf Twitter. Peppa Pig ist eine britische animierte Kinderserie, die weltweit Kultstatus erreicht hat. In der Serie erkundet das Schwein Peppa die Welt und lernt jeden Tag etwas Neues - unter anderem eben auch, dass es sehr lustig ist, in Pfützen zu planschen. Im wohl nicht sehr ernst gemeinten Tweet droht Cardi der Zeichentrickfigur sogar: Zähl deine verdammten Tage! Dass Kulture nun ein Peppa Pig-Verbot hat, ist nicht auszuschliessen, wäre aber schon ziemlich fies. Vielleicht sollte Cardi Kulture einfach mal nicht mehr in die teuersten Ugg Boots stecken?\n",
      "Rapperin Cardi B (28) nimmt es auf Twitter mit Peppa Pig auf. Denn Cardis Tochter Kulture (2) ist so besessen von der britischen Zeichentrickfigur, dass sie derzeit - wie ihr grosses Vorbild - in jede Regenpfütze springen will. Dieser Scheiss geht mir so auf die Nerven! Sie macht ihre Uggs kaputt, schreibt Cardi jetzt genervt auf Twitter. Peppa Pig ist eine britische animierte Kinderserie, die weltweit Kultstatus erreicht hat. In der Serie erkundet das Schwein Peppa die Welt und lernt jeden Tag etwas Neues - unter anderem eben auch, dass es sehr lustig ist, in Pfützen zu planschen. Im wohl nicht sehr ernst gemeinten Tweet droht Cardi der Zeichentrickfigur sogar: Zähl deine verdammten Tage! Dass Kulture nun ein Peppa Pig-Verbot hat, ist nicht auszuschliessen, wäre aber schon ziemlich fies. Vielleicht sollte Cardi Kulture einfach mal nicht mehr in die teuersten Ugg Boots stecken?\n",
      "\n",
      "Fasse den folgenden Artikel auf maximal 200 Zeichen zusammen. Mache den Zusammenfassung mithilfe von '###OUTPUT:' erkennbar. Artikel: \n",
      "Rapperin Cardi B (28) nimmt es auf Twitter mit Peppa Pig auf. Denn Cardis Tochter Kulture (2) ist so besessen von der britischen Zeichentrickfigur, dass sie derzeit - wie ihr grosses Vorbild - in jede Regenpfütze springen will. Dieser Scheiss geht mir so auf die Nerven! Sie macht ihre Uggs kaputt, schreibt Cardi jetzt genervt auf Twitter. Peppa Pig ist eine britische animierte Kinderserie, die weltweit Kultstatus erreicht hat. In der Serie erkundet das Schwein Peppa die Welt und lernt jeden Tag etwas Neues - unter anderem eben auch, dass es sehr lustig ist, in Pfützen zu planschen. Im wohl nicht sehr ernst gemeinten Tweet droht Cardi der Zeichentrickfigur sogar: Zähl deine verdammten Tage! Dass Kulture nun ein Peppa Pig-Verbot hat, ist nicht auszuschliessen, wäre aber schon ziemlich fies. Vielleicht sollte Cardi Kulture einfach mal nicht mehr in die teuersten Ugg Boots stecken?\n",
      "Cardi B, the 28-year-old rapper, has taken to Twitter to complain about her two-year-old daughter Kulture's obsession with Peppa Pig. The British cartoon character has become so popular with Kulture that she wants to jump in every puddle, just like her idol. Cardi B is fed up with the situation, writing on Twitter: \"This shit is driving me crazy! She's ruining her Uggs, and I'm sick of it.\" Peppa Pig is a British animated children's series that has gained worldwide popularity. In the show, Peppa explores the world and learns something new every day, including the fact that it's fun to jump in puddles. Cardi B's tweet, which is not meant to be taken seriously, even threatens Peppa Pig: \"Count your damn days!\" It's possible that Kulture will be banned from watching Peppa Pig, but that would be quite mean. Maybe Cardi B should just stop letting Kulture wear her expensive Ugg boots?\n",
      "--------------------------------------------------\n",
      "Prompt: Fasse den folgenden Artikel auf maximal 200 Zeichen zusammen. Mache den Zusammenfassung mithilfe von '###OUTPUT:' erkennbar. Artikel: \n",
      "Kinder und Jugendliche leiden stark unter der zweiten Coronawelle. Die Kinder- und Jugendpsychiatrie Baselland stösst an ihre Grenzen, wie das Regionaljournal des SRF berichtet. Alle Kliniken sind überfüllt. Wir haben Mühe, noch irgendein Kind aufzunehmen, sagt Brigitte Contin-Waldvogel, Chefärztin der Klinik, gegenüber dem Radiosender. Laut Contin-Waldvogel ist der Zeitraum um die Monate November und Dezember ohnehin schon eine schlimme Zeit. Jetzt, wo die zweite Coronawelle über das Land schwappt, sei es noch schlimmer. In der geschlossenen Klinik, wo Patienten mit besonders schweren Leiden behandelt werden, seien die Zimmer bereits doppelt belegt. Und auch in der ambulanten Behandlung habe sich die Zahl der Fälle verdoppelt. Die Corona-Pandemie setzt die gesamte Bevölkerung unter Druck. Kinder sind jedoch darum besonders verwundbar, weil sie auf das Schutznetz ihrer Bezugspersonen angewiesen sind. Dieses bricht nun oft zusammen, wie Contin-Waldvogel sagt. Das Regionaljournal hat auch mit der Psychologin Diana Vorpe von der Familienberatung Basel-Stadt gesprochen. Probleme die bereits belastend sind, werden noch belastender und können Familien auseinanderreissen, sagt sie. Für Familien die ohnehin schon mit Schwierigkeiten zu kämpfen hätten, sei das ein Jobverlust oder Substanzmissbrauch, könnten die Folgen der Pandemie das Fass zum Überlaufen bringen.\n",
      "Kinder und Jugendliche leiden stark unter der zweiten Coronawelle. Die Kinder- und Jugendpsychiatrie Baselland stösst an ihre Grenzen, wie das Regionaljournal des SRF berichtet. Alle Kliniken sind überfüllt. Wir haben Mühe, noch irgendein Kind aufzunehmen, sagt Brigitte Contin-Waldvogel, Chefärztin der Klinik, gegenüber dem Radiosender. Laut Contin-Waldvogel ist der Zeitraum um die Monate November und Dezember ohnehin schon eine schlimme Zeit. Jetzt, wo die zweite Coronawelle über das Land schwappt, sei es noch schlimmer. In der geschlossenen Klinik, wo Patienten mit besonders schweren Leiden behandelt werden, seien die Zimmer bereits doppelt belegt. Und auch in der ambulanten Behandlung habe sich die Zahl der Fälle verdoppelt. Die Corona-Pandemie setzt die gesamte Bevölkerung unter Druck. Kinder sind jedoch darum besonders verwundbar, weil sie auf das Schutznetz ihrer Bezugspersonen angewiesen sind. Dieses bricht nun oft zusammen, wie Contin-Waldvogel sagt. Das Regionaljournal hat auch mit der Psychologin Diana Vorpe von der Familienberatung Basel-Stadt gesprochen. Probleme die bereits belastend sind, werden noch belastender und können Familien auseinanderreissen, sagt sie. Für Familien die ohnehin schon mit Schwierigkeiten zu kämpfen hätten, sei das ein Jobverlust oder Substanzmissbrauch, könnten die Folgen der Pandemie das Fass zum Überlaufen bringen.\n",
      "\n",
      "Fasse den folgenden Artikel auf maximal 200 Zeichen zusammen. Mache den Zusammenfassung mithilfe von '###OUTPUT:' erkennbar. Artikel: \n",
      "Kinder und Jugendliche leiden stark unter der zweiten Coronawelle. Die Kinder- und Jugendpsychiatrie Baselland stösst an ihre Grenzen, wie das Regionaljournal des SRF berichtet. Alle Kliniken sind überfüllt. Wir haben Mühe, noch irgendein Kind aufzunehmen, sagt Brigitte Contin-Waldvogel, Chefärztin der Klinik, gegenüber dem Radiosender. Laut Contin-Waldvogel ist der Zeitraum um die Monate November und Dezember ohnehin schon eine schlimme Zeit. Jetzt, wo die zweite Coronawelle über das Land schwappt, sei es noch schlimmer. In der geschlossenen Klinik, wo Patienten mit besonders schweren Leiden behandelt werden, seien die Zimmer bereits doppelt belegt. Und auch in der ambulanten Behandlung habe sich die Zahl der Fälle verdoppelt. Die Corona-Pandemie setzt die gesamte Bevölkerung unter Druck. Kinder sind jedoch darum besonders verwundbar, weil sie auf das Schutznetz ihrer Bezugspersonen angewiesen sind. Dieses bricht nun oft zusammen, wie Contin-Waldvogel sagt. Das Regionaljournal hat auch mit der Psychologin Diana Vorpe von der Familienberatung Basel-Stadt gesprochen. Probleme die bereits belastend sind, werden noch belastender und können Familien auseinanderreissen, sagt sie. Für Familien die ohnehin schon mit Schwierigkeiten zu kämpfen hätten, sei das ein Jobverlust oder Substanzmissbrauch, könnten die Folgen der Pandemie das Fass zum Überlaufen bringen.\n",
      "\n",
      "Die zweite Coronawelle belastet Kinder und Jugendliche stark. Die Kinder- und Jugendpsychiatrie Baselland ist überfüllt, und die Kliniken haben Mühe, noch irgendein Kind aufzunehmen. Die Zahl der Fälle in der ambulanten Behandlung hat sich verdoppelt. Kinder sind besonders verwundbar, weil sie auf das Schutznetz ihrer Bezugspersonen angewiesen sind. Probleme, die bereits belastend sind, werden noch belastender und können Familien auseinanderreißen.\n",
      "--------------------------------------------------\n",
      "Prompt: Fasse den folgenden Artikel auf maximal 200 Zeichen zusammen. Mache den Zusammenfassung mithilfe von '###OUTPUT:' erkennbar. Artikel: \n",
      "Am Dienstag hat Nintendo eine neue Ausgabe der beliebten Spielkonsole Switch angekündigt. Diese wird die ältere Version der Switch ablösen, die erstmals im Jahr 2017 auf den Markt kam. Die Konsole ist seit Jahren ein Bestseller für Nintendo und insbesondere im vergangenen Jahr konnte das Unternehmen gute Verkaufszahlen verbuchen, denn es verkaufte 28 8 Millionen Switch-Konsolen. Seit deren Veröffentlichung wurden insgesamt 84 6 Millionen Switches verkauft, wie venturebeat.com berichtet. Die neue Switch soll im Oktober auf den Markt kommen. Sie verfügt über einen 7-Zoll-OLED-Bildschirm, der etwas grösser ist als der 6 2-Zoll-Screen der älteren Generation. Damit soll er Farben dynamischer und echter darstellen können, verfügt aber nach wie vor nur über eine 720p-Bildschirmauflösung. Nebst dem Bildschirm soll auch der Ständer der Konsole überarbeitet worden sein. So soll es mit dem neuen Ständer möglich sein, die Switch in verschiedensten Winkeln aufzustellen. Dies war bei der älteren Generation nicht möglich. Diese Konsole kann nämlich nur in einem bestimmten Winkel aufgestellt werden. Auch im Innern des Gerätes soll sich einiges verändert haben. So wurden die Lautsprecher verbessert und der Speicherplatz vergrössert. Die originale Switch verfügt nur über 32 GB Speicherplatz. Bei der neuen sollen es 64 GB sein. Für viele Gamerinnen und Gamer wird dieser Unterschied allerdings kaum bemerkbar sein, da sich viele so oder so eine externe Speicherkarte anschaffen, auf der hunderte von Gigabytes extra abgespeichert werden können. Einige Nintendo-Fans könnten sich jedoch enttäuscht zeigen. So kursierten im Vorfeld der Ankündigung Gerüchte über eine 4K-Switch Pro mit besserer Grafik, wenn sie an einen Fernseher angeschlossen ist. Diese Spekulation hat sich als falsch herausgestellt. So können auch in Zukunft nur 1080p erwartet werden, wenn die Switch mit einem TV-Gerät verbunden wird. Die Konsole erscheint am 8. Oktober und wird in den Farben weiss und schwarz erhältlich sein. Ein offizieller Preis für die Schweiz wurde bis anhin noch nicht kommuniziert, in den USA wird die Konsole 349 99 Dollar (323 Franken) kosten.\n",
      "Am Dienstag hat Nintendo eine neue Ausgabe der beliebten Spielkonsole Switch angekündigt. Diese wird die ältere Version der Switch ablösen, die erstmals im Jahr 2017 auf den Markt kam. Die Konsole ist seit Jahren ein Bestseller für Nintendo und insbesondere im vergangenen Jahr konnte das Unternehmen gute Verkaufszahlen verbuchen, denn es verkaufte 28 8 Millionen Switch-Konsolen. Seit deren Veröffentlichung wurden insgesamt 84 6 Millionen Switches verkauft, wie venturebeat.com berichtet. Die neue Switch soll im Oktober auf den Markt kommen. Sie verfügt über einen 7-Zoll-OLED-Bildschirm, der etwas grösser ist als der 6 2-Zoll-Screen der älteren Generation. Damit soll er Farben dynamischer und echter darstellen können, verfügt aber nach wie vor nur über eine 720p-Bildschirmauflösung. Nebst dem Bildschirm soll auch der Ständer der Konsole überarbeitet worden sein. So soll es mit dem neuen Ständer möglich sein, die Switch in verschiedensten Winkeln aufzustellen. Dies war bei der älteren Generation nicht möglich. Diese Konsole kann nämlich nur in einem bestimmten Winkel aufgestellt werden. Auch im Innern des Gerätes soll sich einiges verändert haben. So wurden die Lautsprecher verbessert und der Speicherplatz vergrössert. Die originale Switch verfügt nur über 32 GB Speicherplatz. Bei der neuen sollen es 64 GB sein. Für viele Gamerinnen und Gamer wird dieser Unterschied allerdings kaum bemerkbar sein, da sich viele so oder so eine externe Speicherkarte anschaffen, auf der hunderte von Gigabytes extra abgespeichert werden können. Einige Nintendo-Fans könnten sich jedoch enttäuscht zeigen. So kursierten im Vorfeld der Ankündigung Gerüchte über eine 4K-Switch Pro mit besserer Grafik, wenn sie an einen Fernseher angeschlossen ist. Diese Spekulation hat sich als falsch herausgestellt. So können auch in Zukunft nur 1080p erwartet werden, wenn die Switch mit einem TV-Gerät verbunden wird. Die Konsole erscheint am 8. Oktober und wird in den Farben weiss und schwarz erhältlich sein. Ein offizieller Preis für die Schweiz wurde bis anhin noch nicht kommuniziert, in den USA wird die Konsole 349 99 Dollar (323 Franken) kosten.\n",
      "\n",
      "Fasse den folgenden Artikel auf maximal 200 Zeichen zusammen. Mache den Zusammenfassung mithilfe von '###OUTPUT:' erkennbar. Artikel: \n",
      "Am Dienstag hat Nintendo eine neue Ausgabe der beliebten Spielkonsole Switch angekündigt. Diese wird die ältere Version der Switch ablösen, die erstmals im Jahr 2017 auf den Markt kam. Die Konsole ist seit Jahren ein Bestseller für Nintendo und insbesondere im vergangenen Jahr konnte das Unternehmen gute Verkaufszahlen verbuchen, denn es verkaufte 28 8 Millionen Switch-Konsolen. Seit deren Veröffentlichung wurden insgesamt 84 6 Millionen Switches verkauft, wie venturebeat.com berichtet. Die neue Switch soll im Oktober auf den Markt kommen. Sie verfügt über einen 7-Zoll-OLED-Bildschirm, der etwas grösser ist als der 6 2-Zoll-Screen der älteren Generation. Damit soll er Farben dynamischer und echter darstellen können, verfügt aber nach wie vor nur über eine 720p-Bildschirmauflösung. Nebst dem Bildschirm soll auch der Ständer der Konsole überarbeitet worden sein. So soll es mit dem neuen Ständer möglich sein, die Switch in verschiedensten Winkeln aufzustellen. Dies war bei der älteren Generation nicht möglich. Diese Konsole kann nämlich nur in einem bestimmten Winkel aufgestellt werden. Auch im Innern des Gerätes soll sich einiges verändert haben. So wurden die Lautsprecher verbessert und der Speicherplatz vergrössert. Die originale Switch verfügt nur über 32 GB Speicherplatz. Bei der neuen sollen es 64 GB sein. Für viele Gamerinnen und Gamer wird dieser Unterschied allerdings kaum bemerkbar sein, da sich viele so oder so eine externe Speicherkarte anschaffen, auf der hunderte von Gigabytes extra abgespeichert werden können. Einige Nintendo-Fans könnten sich jedoch enttäuscht zeigen. So kursierten im Vorfeld der Ankündigung Gerüchte über eine 4K-Switch Pro mit besserer Grafik, wenn sie an einen Fernseher angeschlossen ist. Diese Spekulation hat sich als falsch herausgestellt. So können auch in Zukunft nur 1080p erwartet werden, wenn die Switch mit einem TV-Gerät verbunden wird. Die Konsole erscheint am 8. Oktober und wird in den Farben weiss und schwarz erhältlich sein. Ein offizieller Preis für die Schweiz wurde bis anhin noch nicht kommuniziert, in den USA wird die Konsole 349 99 Dollar (323 Franken) kosten.\n",
      "\n",
      "Nintendo hat eine neue Version der beliebten Spielkonsole Switch angekündigt. Diese wird die ältere Version der Switch ablösen, die erstmals im Jahr 2017 auf den Markt kam. Die Konsole ist seit Jahren ein Bestseller für Nintendo und insbesondere im vergangenen Jahr konnte das Unternehmen gute Verkaufszahlen verbuchen, denn es verkaufte 28,8 Millionen Switch-Konsolen. Seit deren Veröffentlichung wurden insgesamt 84,6 Millionen Switches verkauft, wie venturebeat.com berichtet. Die neue Switch soll im Oktober auf den Markt kommen. Sie verfügt über einen 7-Zoll-OLED-Bildschirm, der etwas grösser ist als der 6,2-Zoll-Screen der älteren Generation. Damit soll er Farben dynamischer und echter darstellen können, verfügt aber nach wie vor nur über eine 720p-Bildschirmauflösung. Nebst dem Bildschirm soll auch der Ständer der Konsole überarbeitet worden sein. So soll es mit dem neuen Ständer möglich sein, die Switch in verschiedensten Winkeln aufzustellen. Dies war bei der älteren Generation nicht möglich. Diese Konsole kann nämlich nur in einem bestimmten Winkel aufgestellt werden. Auch im Innern des Gerätes soll sich einiges verändert haben. So wurden die Lautsprecher verbessert und der Speicherplatz vergrössert. Die originale Switch verfügt nur über 32 GB Speicherplatz. Bei der neuen sollen es 64 GB\n",
      "--------------------------------------------------\n"
     ]
    }
   ],
   "source": [
    "sample_20minutes(3)"
   ]
  },
  {
   "cell_type": "markdown",
   "metadata": {},
   "source": [
    "### Probleme\n",
    "\n",
    "Llama2 Modelle sind entweder nicht frei verfügbar auf Huggingface mit Inference API, zu groß um es lokal nutzen oder ungeeignet für Summarization.\n",
    "\n",
    "Stablebeluga-7b eignet sich auch nicht gut zur Summarization, da der Rechenaufwand trotz weniger Parameter zu hoch ist (ca. ein Artikel alle zwei Minuten).\n",
    "Außerdem wird der Text nicht zusammengefasst, sondern eher umgeschrieben. Die Ausgabe ist dabei auch manchmal auf Englisch statt Deutsch. "
   ]
  }
 ],
 "metadata": {
  "kernelspec": {
   "display_name": "venv",
   "language": "python",
   "name": "python3"
  },
  "language_info": {
   "codemirror_mode": {
    "name": "ipython",
    "version": 3
   },
   "file_extension": ".py",
   "mimetype": "text/x-python",
   "name": "python",
   "nbconvert_exporter": "python",
   "pygments_lexer": "ipython3",
   "version": "3.11.8"
  }
 },
 "nbformat": 4,
 "nbformat_minor": 2
}
