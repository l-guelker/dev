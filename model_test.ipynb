{
 "cells": [
  {
   "cell_type": "code",
   "execution_count": 22,
   "metadata": {},
   "outputs": [],
   "source": [
    "from transformers import pipeline\n",
    "from datasets import load_dataset\n",
    "\n",
    "twenty_minutes_ds = load_dataset(\"jonathandechert/20Minuten\", split=\"test\")\n",
    "summarizer = pipeline(\"summarization\", model=\"sshleifer/distilbart-cnn-12-6\")"
   ]
  },
  {
   "cell_type": "code",
   "execution_count": 25,
   "metadata": {},
   "outputs": [
    {
     "data": {
      "text/plain": [
       "Dataset({\n",
       "    features: ['original', 'simplification'],\n",
       "    num_rows: 200\n",
       "})"
      ]
     },
     "execution_count": 25,
     "metadata": {},
     "output_type": "execute_result"
    }
   ],
   "source": [
    "twenty_minutes_ds"
   ]
  },
  {
   "cell_type": "code",
   "execution_count": 34,
   "metadata": {},
   "outputs": [
    {
     "data": {
      "text/plain": [
       "'In tausenden Schweizer Privathaushalten kümmern sich Haushaltsangestellte um die Wäsche, betreuen die Kinder und sorgen für Sauberkeit. Durchschnittlich bekommen sie für die Arbeit rund 30 Franken pro Stunde Bruttolohn. Der grösste Teil von ihnen erhält aber 28 Franken. Nach Abzug der Beiträge für die obligatorische Unfallversicherung und Sovialversicherungen bleiben den Haushaltshilfen im Schnitt noch 25 Franken pro Stunde, wie die auf die Lohnabrechnung von Haushaltshilfen spezialisierte Firma Quitt.ch mitteilt. Die Analyse von mehr als 4000 Arbeitsverträgen, die laut Quitt.ch auch das Bundesamt für Statistik verwendet, macht deutliche Lohnunterschiede je nach Kanton deutlich. Die höchsten Bruttolöhne erhalten Reinigungskräfte im Kanton Zürich mit 31.70 Franken pro Stunde. Fast gleich viel wie in Zürich bekommen Putzhilfen in den steuergünstigen Kantonen Nidwalden (31.60 Franken) und Schwyz (31.30 Franken, weitere Kantone in der Bildstrecke). Schlusslicht ist der Kanton Tessin mit 25.40 Franken. Das ist rund ein Viertel weniger als im Kanton Zürich. Der Lohnvergleich für Babysitter zeigt: Im Kanton Obwalden erhalten sie mit durchschnittlich 32 Franken am meisten. Ebenfalls über 30 Franken pro Stunde bekommen Nannys in den beiden Appenzeller Kantonen (je 30-50 Franken). Schlusslicht ist der Kanton Genf mit 22.55 Franken. Die tiefen Löhne in der Süd- und Westschweiz erklärt Quitt-Sprecher Bernhard Bircher-Suits mit vielen Grenzgängern und zudem wohl vielen illegal arbeitenden Menschen. Ein aktueller SECO-Bericht über die Bekämpfung der Schwarzarbeit zeigt, dass in der Romandie und im Tessin überdurchschnittlich viele Haushaltshilfen ihre Melde- und Beitragspflichten verletzen und schwarzarbeiten, so Bircher-Suits.'"
      ]
     },
     "execution_count": 34,
     "metadata": {},
     "output_type": "execute_result"
    }
   ],
   "source": [
    "input_text = twenty_minutes_ds[2][\"original\"]\n",
    "input_text"
   ]
  },
  {
   "cell_type": "code",
   "execution_count": 35,
   "metadata": {},
   "outputs": [],
   "source": [
    "summary_text = summarizer(input_text, min_length=5, max_length=200)[0][\"summary_text\"]"
   ]
  },
  {
   "cell_type": "code",
   "execution_count": 36,
   "metadata": {},
   "outputs": [
    {
     "data": {
      "text/plain": [
       "' In tausenden Schweizer Privathaushalten kümmern sich Haushaltsangestellte erhält 28 Franken . Durchschnittlich bekommen sie für die Arbeit rund 30 Franken pro Stunde Bruttolohn .'"
      ]
     },
     "execution_count": 36,
     "metadata": {},
     "output_type": "execute_result"
    }
   ],
   "source": [
    "summary_text"
   ]
  }
 ],
 "metadata": {
  "kernelspec": {
   "display_name": "venv",
   "language": "python",
   "name": "python3"
  },
  "language_info": {
   "codemirror_mode": {
    "name": "ipython",
    "version": 3
   },
   "file_extension": ".py",
   "mimetype": "text/x-python",
   "name": "python",
   "nbconvert_exporter": "python",
   "pygments_lexer": "ipython3",
   "version": "3.12.1"
  }
 },
 "nbformat": 4,
 "nbformat_minor": 2
}
