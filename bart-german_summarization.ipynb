{
 "cells": [
  {
   "cell_type": "markdown",
   "metadata": {},
   "source": [
    "### Paper\n",
    "\n",
    "*[German also Hallucinates! Inconsistency Detection in News\n",
    "Summaries with the Absinth Dataset](https://aclanthology.org/2024.lrec-main.680.pdf)*"
   ]
  },
  {
   "cell_type": "code",
   "execution_count": 2,
   "metadata": {},
   "outputs": [
    {
     "name": "stderr",
     "output_type": "stream",
     "text": [
      "/workspaces/dev/venv/lib/python3.12/site-packages/tqdm/auto.py:21: TqdmWarning: IProgress not found. Please update jupyter and ipywidgets. See https://ipywidgets.readthedocs.io/en/stable/user_install.html\n",
      "  from .autonotebook import tqdm as notebook_tqdm\n"
     ]
    }
   ],
   "source": [
    "from transformers import pipeline\n",
    "from huggingface_hub import InferenceClient\n",
    "from datasets import load_dataset\n",
    "from tqdm.auto import tqdm\n",
    "import random\n",
    "import pandas as pd"
   ]
  },
  {
   "cell_type": "markdown",
   "metadata": {},
   "source": [
    "### Model\n",
    "\n",
    "*[Shahm/bart-german](https://huggingface.co/Shahm/bart-german)*"
   ]
  },
  {
   "cell_type": "code",
   "execution_count": 11,
   "metadata": {},
   "outputs": [],
   "source": [
    "MAX_LEN = 2048\n",
    "DATASET_FILENAME = \"20min-all-articles.csv\"\n",
    "USED_MODEL = \"Shahm/bart-german\"\n",
    "USE_INFERENCE_API = True"
   ]
  },
  {
   "cell_type": "code",
   "execution_count": 12,
   "metadata": {},
   "outputs": [],
   "source": [
    "# TODO: mistralai/Mixtral-8x22B-Instruct-v0.1 or mistralai/Mixtral-8x7B-Instruct-v0.1\n",
    "if USE_INFERENCE_API:\n",
    "    client = InferenceClient(api_key=\"hf_xxxxxxxxxxxxxxxxxxxxxxxxxxxxxxxxx\")\n",
    "\n",
    "    messages = [\n",
    "        { \"role\": \"user\", \"content\": \"What is the capital of France?\" }\n",
    "    ]\n",
    "\n",
    "    stream = client.chat.completions.create(\n",
    "        model=\"mistralai/Mixtral-8x7B-Instruct-v0.1\", \n",
    "        messages=messages, \n",
    "        max_tokens=500,\n",
    "        stream=True\n",
    "    )\n",
    "\n",
    "    for chunk in stream:\n",
    "        print(chunk.choices[0].delta.content)\n",
    "else:\n",
    "    #summarizer = pipeline(\"summarization\", model=\"facebook/bart-large-cnn\")\n",
    "    #summarizer = pipeline(\"summarization\", model=\"facebook/mbart-large-cc25\")\n",
    "    summarizer = pipeline(\"summarization\", model=USED_MODEL)"
   ]
  },
  {
   "cell_type": "code",
   "execution_count": 13,
   "metadata": {},
   "outputs": [],
   "source": [
    "def summarize_text(input_text):\n",
    "    summary_text = summarizer(input_text[:MAX_LEN], min_length=25, max_length=200)[0][\"summary_text\"]\n",
    "    return summary_text"
   ]
  },
  {
   "cell_type": "markdown",
   "metadata": {},
   "source": [
    "### Dataset\n",
    "\n",
    "[ZurichNLP/20Minuten](https://github.com/ZurichNLP/20Minuten/tree/main) \n",
    "(*[Marie Luise Tono Projektseminar WS2425](https://gitlab.ub.uni-bielefeld.de/projektseminarws24-25/Marie_Luise_Tono_Projektseminar_WS2425/-/blob/main/data/20min-all-articles.csv?ref_type=heads)*)"
   ]
  },
  {
   "cell_type": "code",
   "execution_count": 14,
   "metadata": {},
   "outputs": [],
   "source": [
    "twenty_minutes_df = pd.read_csv(DATASET_FILENAME)"
   ]
  },
  {
   "cell_type": "code",
   "execution_count": 15,
   "metadata": {},
   "outputs": [
    {
     "data": {
      "text/html": [
       "<div>\n",
       "<style scoped>\n",
       "    .dataframe tbody tr th:only-of-type {\n",
       "        vertical-align: middle;\n",
       "    }\n",
       "\n",
       "    .dataframe tbody tr th {\n",
       "        vertical-align: top;\n",
       "    }\n",
       "\n",
       "    .dataframe thead th {\n",
       "        text-align: right;\n",
       "    }\n",
       "</style>\n",
       "<table border=\"1\" class=\"dataframe\">\n",
       "  <thead>\n",
       "    <tr style=\"text-align: right;\">\n",
       "      <th></th>\n",
       "      <th>file_name</th>\n",
       "      <th>text</th>\n",
       "      <th>picture_text</th>\n",
       "    </tr>\n",
       "  </thead>\n",
       "  <tbody>\n",
       "    <tr>\n",
       "      <th>0</th>\n",
       "      <td>2020-10-18_6_239897547604.json</td>\n",
       "      <td>Wegen der drastisch steigenden Corona-Zahlen g...</td>\n",
       "      <td>In Paris und acht weiteren französischen Städt...</td>\n",
       "    </tr>\n",
       "    <tr>\n",
       "      <th>1</th>\n",
       "      <td>2021-05-11_6_428561171434.json</td>\n",
       "      <td>Die Züge und Busse des Schweizer Regionalverke...</td>\n",
       "      <td>Der RBS ist in mehr als 99 Prozent der Fälle r...</td>\n",
       "    </tr>\n",
       "    <tr>\n",
       "      <th>2</th>\n",
       "      <td>2021-12-10_6_678900728110.json</td>\n",
       "      <td>Ein News-Scout aus Blonay VD war um acht Uhr m...</td>\n",
       "      <td>A u t o b a h n a b s c h n i t t   z w i s c ...</td>\n",
       "    </tr>\n",
       "    <tr>\n",
       "      <th>3</th>\n",
       "      <td>2020-04-15_6_670941183943.json</td>\n",
       "      <td>Waschmaschinen wissen, was sie tun. 90 Minuten...</td>\n",
       "      <td>Sie waschen, die Maschine meldet eine einzige ...</td>\n",
       "    </tr>\n",
       "    <tr>\n",
       "      <th>4</th>\n",
       "      <td>2020-07-29_6_777680273630.json</td>\n",
       "      <td>Die in Dubai ansässige Airline Emirates will i...</td>\n",
       "      <td>Die «Covid-19-Versicherung» ist vom Antritt de...</td>\n",
       "    </tr>\n",
       "    <tr>\n",
       "      <th>...</th>\n",
       "      <td>...</td>\n",
       "      <td>...</td>\n",
       "      <td>...</td>\n",
       "    </tr>\n",
       "    <tr>\n",
       "      <th>495</th>\n",
       "      <td>2021-08-24_6_804609690909.json</td>\n",
       "      <td>Die Schweizer Fluggesellschaft Swiss führt ein...</td>\n",
       "      <td>Bei der Swiss herrscht ab 15. November Impfpfl...</td>\n",
       "    </tr>\n",
       "    <tr>\n",
       "      <th>496</th>\n",
       "      <td>2021-07-23_6_186662834378.json</td>\n",
       "      <td>Ein Raiffeisen-Banker und seine Ehefrau dürfen...</td>\n",
       "      <td>Eine Frau hat ihrem Banker 60'000 Franken verm...</td>\n",
       "    </tr>\n",
       "    <tr>\n",
       "      <th>497</th>\n",
       "      <td>2020-04-14_6_667667443469.json</td>\n",
       "      <td>Der junge Alphirt Erwin Ramsauer verschwand am...</td>\n",
       "      <td>Der junge Alphirt Erwin Ramsauer verschwand am...</td>\n",
       "    </tr>\n",
       "    <tr>\n",
       "      <th>498</th>\n",
       "      <td>2020-04-15_6_491496211151.json</td>\n",
       "      <td>Keine Woche ohne Auto-Schlagzeilen mit Justin ...</td>\n",
       "      <td>Und plötzlich stand er still. Da nützt es auch...</td>\n",
       "    </tr>\n",
       "    <tr>\n",
       "      <th>499</th>\n",
       "      <td>2021-02-19_6_480708039099.json</td>\n",
       "      <td>Wenn es um Medizin geht, können wir von Glück ...</td>\n",
       "      <td>Aber das ist doch ...? Nein, was aussieht wie ...</td>\n",
       "    </tr>\n",
       "  </tbody>\n",
       "</table>\n",
       "<p>500 rows × 3 columns</p>\n",
       "</div>"
      ],
      "text/plain": [
       "                          file_name  \\\n",
       "0    2020-10-18_6_239897547604.json   \n",
       "1    2021-05-11_6_428561171434.json   \n",
       "2    2021-12-10_6_678900728110.json   \n",
       "3    2020-04-15_6_670941183943.json   \n",
       "4    2020-07-29_6_777680273630.json   \n",
       "..                              ...   \n",
       "495  2021-08-24_6_804609690909.json   \n",
       "496  2021-07-23_6_186662834378.json   \n",
       "497  2020-04-14_6_667667443469.json   \n",
       "498  2020-04-15_6_491496211151.json   \n",
       "499  2021-02-19_6_480708039099.json   \n",
       "\n",
       "                                                  text  \\\n",
       "0    Wegen der drastisch steigenden Corona-Zahlen g...   \n",
       "1    Die Züge und Busse des Schweizer Regionalverke...   \n",
       "2    Ein News-Scout aus Blonay VD war um acht Uhr m...   \n",
       "3    Waschmaschinen wissen, was sie tun. 90 Minuten...   \n",
       "4    Die in Dubai ansässige Airline Emirates will i...   \n",
       "..                                                 ...   \n",
       "495  Die Schweizer Fluggesellschaft Swiss führt ein...   \n",
       "496  Ein Raiffeisen-Banker und seine Ehefrau dürfen...   \n",
       "497  Der junge Alphirt Erwin Ramsauer verschwand am...   \n",
       "498  Keine Woche ohne Auto-Schlagzeilen mit Justin ...   \n",
       "499  Wenn es um Medizin geht, können wir von Glück ...   \n",
       "\n",
       "                                          picture_text  \n",
       "0    In Paris und acht weiteren französischen Städt...  \n",
       "1    Der RBS ist in mehr als 99 Prozent der Fälle r...  \n",
       "2    A u t o b a h n a b s c h n i t t   z w i s c ...  \n",
       "3    Sie waschen, die Maschine meldet eine einzige ...  \n",
       "4    Die «Covid-19-Versicherung» ist vom Antritt de...  \n",
       "..                                                 ...  \n",
       "495  Bei der Swiss herrscht ab 15. November Impfpfl...  \n",
       "496  Eine Frau hat ihrem Banker 60'000 Franken verm...  \n",
       "497  Der junge Alphirt Erwin Ramsauer verschwand am...  \n",
       "498  Und plötzlich stand er still. Da nützt es auch...  \n",
       "499  Aber das ist doch ...? Nein, was aussieht wie ...  \n",
       "\n",
       "[500 rows x 3 columns]"
      ]
     },
     "execution_count": 15,
     "metadata": {},
     "output_type": "execute_result"
    }
   ],
   "source": [
    "twenty_minutes_df"
   ]
  },
  {
   "cell_type": "code",
   "execution_count": 16,
   "metadata": {},
   "outputs": [],
   "source": [
    "def sample_20minutes(n_samples=5):\n",
    "    dataset_len = len(twenty_minutes_df)\n",
    "    sample_indices = random.sample(range(dataset_len), n_samples)\n",
    "    for i in sample_indices:\n",
    "        cur_text = twenty_minutes_df.loc[i][\"text\"]\n",
    "        print(cur_text)\n",
    "        print()\n",
    "\n",
    "        summary_text = summarize_text(cur_text)\n",
    "        print(summary_text)\n",
    "        print(\"-\"*100)\n"
   ]
  },
  {
   "cell_type": "code",
   "execution_count": 17,
   "metadata": {},
   "outputs": [
    {
     "name": "stdout",
     "output_type": "stream",
     "text": [
      "Sie lächelt scheu in die Kamera, wirkt mittelmässig glücklich - vor wenigen Tagen tauchte auf Twitter ein neues Bild der Dubaier Prinzessin Latifa bint Mohammed Al Maktum auf. Das Foto entstand auf Island, Latifa posiert mit ihrem Cousin Marcus Essabri und ihrer Kollegin Sioned Taylor, die auch auf einem Bild im vergangenen Juni in Madrid mit Latifa zu sehen war. Essabri schrieb zum Bild: «Wir hatten ein emotionales Wiedersehen. (...) Es war beruhigend, sie so glücklich, gesund und fokussiert zu sehen.» Der neue, weitere Beweis für das Glück der 35-jährigen Sheikah wurde daraufhin zum Anlass genommen, die Kampagne «Free Latifa» aufzulösen. David Haigh, Mitgründer der Internet-Kampagne, sagte der BBC, die aktuelle Situation der Prinzessin sei «die beste Situation, in der sie sich in Bezug auf Freiheit seit zwei Jahrzehnten befindet». Hat die langjährige Befreiungsgeschichte also ein Happy End? Das ist unklar, denn bis jetzt hat sich Latifa nie selber öffentlich zu Wort gemeldet. Agiert sie wirklich aus eigenem Willensentschluss?Selbst in David Haighs Worte ist ein Hauch von Misstrauen zu hören: Man müsse «alles, was jetzt passiert, mit äusserster Vorsicht betrachten und die Situation genau beobachten», fügte er gegenüber zur BBC hinzu. Seit 2018 auf der Flucht vor ihrem Vater Latifa hatte im März 2018 versucht, vor ihrem Vater, Scheik Mohammed bin Rashid al-Maktum, zu fliehen. Auf dem Weg von Dubai nach Indien spürten sie Häscher ihres Vaters auf und brachten sie gegen ihren Willen zurück nach Dubai. 2020 kam ein britischer Richter zu dem Schluss, Scheik Mohammed habe eine Einschüchterungskampagne gegen seine getrennt von ihm lebende Frau Prinzessin Haya gestartet und die Entführung zweier seiner Töchter angeordnet, eine von ihnen ist Sheikah Latifa. Im Februar 2021 veröffentlichte die BBC ein Video, in dem Latifa sagte, dass sie von ihrem Vater in einer zu einem Gefängnis umfunktionierten Villa in Dubai festgehalten werde und um ihr Leben fürchte. Die Vereinten Nationen und Menschenrechtsexperten riefen Scheik Mohammed auf, Informationen über seine Tochter zu veröffentlichen. In den letzten Monaten tauchten mehrere Bilder von Latifa auf: zuerst in zwei Malls in Dubai, ein Monat später am spanischen Flughafen. Immer in Begleitung ihrer Kollegin Sioned Taylor.\n",
      "\n",
      "Sie lächelt scheu in die Kamera, wirkt mittelmässig glücklich - vor wenigen Tagen tauchte auf Twitter ein neues Bild der Dubaier Prinzessin Latifa bint Mohammed Al Maktum auf.\n",
      "----------------------------------------------------------------------------------------------------\n",
      "Eine 8:0-Party gegen Südkorea war schon alles. Daneben gab es nur Pleiten und mit dem Out in der Qualifikation zu den Viertelfinals gegen Erzrivale Deutschland zum Schluss auch noch die Höchststrafe. Statt einer Olympia-Medaille, die intern insgeheim angestrebt wurde, weil die NHL-Stars nicht dabei sind, gibt es nun Häme. Hinterfragen muss man nach dem Olympia-Debakel primär die Verbandsführung. Ohne Not haben sie vor Weihnachten den Vertrag mit Nationaltrainer Patrick Fischer vorzeitig um zwei Jahre verlängert. Ohne, dass dieser die gute letzte WM in einem der beiden Turniere in dieser Saison (Olympia, WM) bestätigen muss. Vertragsverlängerung wird dem Verband um die Ohren geschlagen An dieser Stelle sei nicht gesagt, dass Fischer der falsche Mann für diesen Job ist. Überhaupt nicht. Er ist ein junger, dynamischer, moderner Coach und ein glänzender Verkäufer des Schweizer Eishockeys. Auch hat er als Schweizer ein effektives Interesse daran, das Schweizer Eishockey langfristig besser zu machen. Diesbezüglich entwickelt er auch immer wieder gute Ideen. Aber einen Freifahrtschein hätte man ihm trotzdem nicht geben dürfen. Dass der Verband dies tat, wird ihm nun um die Ohren geschlagen und zu verantworten hat dies Swiss Ice Hockey ganz allein. Die Wahrscheinlichkeit, dass Köpfe rollen werden, ist trotzdem gering. Im wichtigsten Turnier war die Mannschaft auf einem schlechten Level Was muss sich Fischer vorwerfen lassen? Vielleicht, dass er es nicht geschafft hat, die Mannschaft im wichtigsten Turnier auf ein einheitlich gutes Level zu bringen. Dass das Powerplay einmal mehr nicht funktionierte. Und dass zu viele Spieler nicht in der Lage waren, seinen Gameplan umzusetzen. Eine grosse Stärke von Fischer ist eigentlich, dass er ein gutes Gespür für die Mannschaft hat. Doch dieses Mal hat ihn sein Bauchgefühl offensichtlich im Stich gelassen. Er hatte zu viele Spieler dabei, die nicht in Form sind, die die für sie vorgesehene Rolle so nicht ausfüllen konnten und dadurch zur Hypothek für die Mannschaft wurden. Oder müssen wir ganz einfach akzeptieren, dass wir in Tat und Wahrheit nicht besser sind? Über einzelne Personalien lässt sich immer diskutieren und bestimmt hätten Joel Genazzi statt Felicien Du Bois und Tanner Richard anstelle von Cody Almond hierhin gehört, aber grundsätzlich stellt der Kern dieses Teams die aktuell besten Schweizer Spieler in der National League. Nach dem Olympia-Aus am Scheideweg Vielleicht war es auch ein Trugschluss zu glauben, dass unsere Chancen ohne die NHL-Spieler steigen. Die grossen Schweizer Spielerpersönlichkeiten und Ausnahmekönner wie Roman Josi, Nico Hischier, Nino Niederreiter oder Kevin Fiala spielen nun einmal aus einem bestimmten Grund in Nordamerika. Weil sie die Besten unseres Landes sind. Wir haben nicht die Breite der Schweden, Finnen oder Russen und können solche Absenzen im Gegensatz zu ihnen offensichtlich nicht auffangen. Die Nati befindet sich nach dem bitteren Olympia-Aus nun an einem Scheideweg, denn mit der Niederlage gegen Deutschland ist ein Vierjahresplan zu Ende gegangen. Jonas Hiller hat bereits seinen Rücktritt aus dem Nationalteam erklärt. Gibt es noch weitere? Erst jetzt wird sich zeigen, ob die Spieler Fischer mit gleich viel Enthusiasmus ins Nationalteam folgen wie bis anhin, auch ohne ein bevorstehendes Olympia-Turnier vor Augen.\n",
      "\n",
      "Der Schweizer Eishockey-Verband verlängert seinen Vertrag mit Nationaltrainer Patrick Fischer um zwei Jahre. Er ist der falsche Mann für diesen Job.\n",
      "----------------------------------------------------------------------------------------------------\n",
      "Alexandra Posztos aus Wetzikon ZH vermisst seit dem 17. September ihres schwarzes Büsi. «Maszat ist sehr anhänglich, unglaublich lieb und ein bisschen tollpatschig.» Die 2,5-jährige, sehr schlanke Katze lebt seit Geburt bei Posztos. «Sie war immer hier in der Umgebung. Es ist untypisch, dass sie nicht nach Hause kommt.» Auf der Website der Schweizerischen Tiermeldezentrale (STMZ) hat die 26-Jährige in der Zwischenzeit eine Vermisstmeldung aufgegeben. Und auch auf Facebook postete sie vor Wochen einen Beitrag. Einige Personen hätten sich seither gemeldet und behauptet, Maszat an verschiedenen Orten in Wetzikon gesehen zu haben. «Leider haben diese Hinweise aber nicht zum erhofften Erfolg geführt. Maszat ist bisher noch nicht aufgetaucht.» «Ich bitte alle, die Augen offen zu halten» Auffällig dabei: Posztos ist nicht die einzige Katzenbesitzerin in Wetzikon, die ihre schwarzes Büsi vermisst. Ein Blick auf die Website der STMZ zeigt, dass seit September in Wetzikon sechs schwarze Katzen als vermisst gemeldet wurden. Die 26-Jährige findet das seltsam: «Das Verschwinden von so vielen schwarzen Büsi in der gleichen Region ist sehr mysteriös.» Auf Facebook hat sie deshalb einen Aufruf gestartet. «Ich will auf die Problematik hinweisen. Vielleicht melden sich noch weitere Betroffene.» Ihr grösster Wunsch ist aber: «Ich bitte alle, die Augen offen zu halten, und hoffe, dass meine Maszat bald wieder bei mir ist.» Wie es bei der Kantonspolizei Zürich auf Anfrage heisst, hat man Kenntnis davon, dass im Raum Wetzikon mehrere schwarze Katzen vermisst werden. «Wir ermitteln in diesem Zusammenhang im Rahmen unserer Möglichkeiten. Hinweise in diesem Zusammenhang dürfen jederzeit an uns gerichtet werden», sagt Sprecher Florian Frei.\n",
      "\n",
      "Alexandra Posztos aus Wetzikon ZH vermisst seit dem 17. September ihres schwarzes Büsi.\n",
      "----------------------------------------------------------------------------------------------------\n"
     ]
    }
   ],
   "source": [
    "sample_20minutes(3)"
   ]
  },
  {
   "cell_type": "markdown",
   "metadata": {},
   "source": [
    "### Save Data"
   ]
  },
  {
   "cell_type": "code",
   "execution_count": 18,
   "metadata": {},
   "outputs": [
    {
     "name": "stderr",
     "output_type": "stream",
     "text": [
      "100%|██████████| 50/50 [04:41<00:00,  5.63s/it]\n"
     ]
    }
   ],
   "source": [
    "summary_df = pd.DataFrame(columns=[\"id\",\"text\",\"summary\",\"model\"])\n",
    "# (file_name, text, summary, model)\n",
    "for i in tqdm(range(len(twenty_minutes_df)-450)):\n",
    "    cur_filename = twenty_minutes_df.loc[i][\"file_name\"]\n",
    "    cur_text = twenty_minutes_df.loc[i][\"text\"]\n",
    "    cur_summary = summarize_text(cur_text)\n",
    "    cur_model = USED_MODEL\n",
    "\n",
    "    summary_df.loc[i] = [i, cur_text, cur_summary, cur_model]"
   ]
  },
  {
   "cell_type": "code",
   "execution_count": 9,
   "metadata": {},
   "outputs": [
    {
     "data": {
      "text/html": [
       "<div>\n",
       "<style scoped>\n",
       "    .dataframe tbody tr th:only-of-type {\n",
       "        vertical-align: middle;\n",
       "    }\n",
       "\n",
       "    .dataframe tbody tr th {\n",
       "        vertical-align: top;\n",
       "    }\n",
       "\n",
       "    .dataframe thead th {\n",
       "        text-align: right;\n",
       "    }\n",
       "</style>\n",
       "<table border=\"1\" class=\"dataframe\">\n",
       "  <thead>\n",
       "    <tr style=\"text-align: right;\">\n",
       "      <th></th>\n",
       "      <th>id</th>\n",
       "      <th>original</th>\n",
       "      <th>simplification</th>\n",
       "      <th>summary</th>\n",
       "    </tr>\n",
       "  </thead>\n",
       "  <tbody>\n",
       "    <tr>\n",
       "      <th>0</th>\n",
       "      <td>0</td>\n",
       "      <td>Ich date jetzt schon seit längerer Zeit Timon....</td>\n",
       "      <td>Lars datet seit einiger Zeit Timon. Eigentlich...</td>\n",
       "      <td>Timon entspricht eigentlich genau dem, was ich...</td>\n",
       "    </tr>\n",
       "    <tr>\n",
       "      <th>1</th>\n",
       "      <td>1</td>\n",
       "      <td>Ich kann mich noch sehr gut an den Moment erin...</td>\n",
       "      <td>Weil ihr Vater unfruchtbar ist, wurde G.C. 199...</td>\n",
       "      <td>Ich kann mich noch sehr gut an den Moment erin...</td>\n",
       "    </tr>\n",
       "    <tr>\n",
       "      <th>2</th>\n",
       "      <td>2</td>\n",
       "      <td>In tausenden Schweizer Privathaushalten kümmer...</td>\n",
       "      <td>Putzhilfen, Babysitter und sonstige Haushaltsa...</td>\n",
       "      <td>Durchschnittlich bekommen sie für die Arbeit r...</td>\n",
       "    </tr>\n",
       "    <tr>\n",
       "      <th>3</th>\n",
       "      <td>3</td>\n",
       "      <td>Im Studio Gewichte stemmen und auf dem Laufban...</td>\n",
       "      <td>Clever-Fit schreibt die Shutdown-Zeit nicht au...</td>\n",
       "      <td>Viele Firmen setzen im Shutdown auf Abo-Verlän...</td>\n",
       "    </tr>\n",
       "    <tr>\n",
       "      <th>4</th>\n",
       "      <td>4</td>\n",
       "      <td>Gerade erst wurde Kanye West (43) noch inklusi...</td>\n",
       "      <td>Gerüchten zufolge sollen Kanye West (43) und I...</td>\n",
       "      <td>Nach seiner Scheidung von Reality-Star Kim Kar...</td>\n",
       "    </tr>\n",
       "    <tr>\n",
       "      <th>...</th>\n",
       "      <td>...</td>\n",
       "      <td>...</td>\n",
       "      <td>...</td>\n",
       "      <td>...</td>\n",
       "    </tr>\n",
       "    <tr>\n",
       "      <th>195</th>\n",
       "      <td>195</td>\n",
       "      <td>Mit 32 Jahren, nach 18 Jahren als Profi, nach ...</td>\n",
       "      <td>Die Schweizer Tennisspielerin Timea Bacsinszky...</td>\n",
       "      <td>Die Lausannerin Timea Bacsinszky gewinnt die W...</td>\n",
       "    </tr>\n",
       "    <tr>\n",
       "      <th>196</th>\n",
       "      <td>196</td>\n",
       "      <td>Laut der grossen Sex-Umfrage von 20 Minuten (s...</td>\n",
       "      <td>Laut der Sex-Umfrage von 20 Minuten hatte fast...</td>\n",
       "      <td>Eine Umfrage von 20 Minuten hatte fast jede*r ...</td>\n",
       "    </tr>\n",
       "    <tr>\n",
       "      <th>197</th>\n",
       "      <td>197</td>\n",
       "      <td>Der niederländische Schiedsrichter Björn Kuipe...</td>\n",
       "      <td>Der älteste Schiedsrichter des Turniers pfeift...</td>\n",
       "      <td>Björn Kuipers leitet das Finale der EM an dies...</td>\n",
       "    </tr>\n",
       "    <tr>\n",
       "      <th>198</th>\n",
       "      <td>198</td>\n",
       "      <td>Ich habe die Frau online kennengelernt und wir...</td>\n",
       "      <td>Nando (26) lernte sein Date online kennen. Die...</td>\n",
       "      <td>Ich habe die Frau online kennengelernt und wir...</td>\n",
       "    </tr>\n",
       "    <tr>\n",
       "      <th>199</th>\n",
       "      <td>199</td>\n",
       "      <td>Die Kantonspolizei Bern sorgt erneut für negat...</td>\n",
       "      <td>Die Kantonspolizei geriet in den letzten Tagen...</td>\n",
       "      <td>Auf Facebook und Twitter haben einige Berner P...</td>\n",
       "    </tr>\n",
       "  </tbody>\n",
       "</table>\n",
       "<p>200 rows × 4 columns</p>\n",
       "</div>"
      ],
      "text/plain": [
       "      id                                           original  \\\n",
       "0      0  Ich date jetzt schon seit längerer Zeit Timon....   \n",
       "1      1  Ich kann mich noch sehr gut an den Moment erin...   \n",
       "2      2  In tausenden Schweizer Privathaushalten kümmer...   \n",
       "3      3  Im Studio Gewichte stemmen und auf dem Laufban...   \n",
       "4      4  Gerade erst wurde Kanye West (43) noch inklusi...   \n",
       "..   ...                                                ...   \n",
       "195  195  Mit 32 Jahren, nach 18 Jahren als Profi, nach ...   \n",
       "196  196  Laut der grossen Sex-Umfrage von 20 Minuten (s...   \n",
       "197  197  Der niederländische Schiedsrichter Björn Kuipe...   \n",
       "198  198  Ich habe die Frau online kennengelernt und wir...   \n",
       "199  199  Die Kantonspolizei Bern sorgt erneut für negat...   \n",
       "\n",
       "                                        simplification  \\\n",
       "0    Lars datet seit einiger Zeit Timon. Eigentlich...   \n",
       "1    Weil ihr Vater unfruchtbar ist, wurde G.C. 199...   \n",
       "2    Putzhilfen, Babysitter und sonstige Haushaltsa...   \n",
       "3    Clever-Fit schreibt die Shutdown-Zeit nicht au...   \n",
       "4    Gerüchten zufolge sollen Kanye West (43) und I...   \n",
       "..                                                 ...   \n",
       "195  Die Schweizer Tennisspielerin Timea Bacsinszky...   \n",
       "196  Laut der Sex-Umfrage von 20 Minuten hatte fast...   \n",
       "197  Der älteste Schiedsrichter des Turniers pfeift...   \n",
       "198  Nando (26) lernte sein Date online kennen. Die...   \n",
       "199  Die Kantonspolizei geriet in den letzten Tagen...   \n",
       "\n",
       "                                               summary  \n",
       "0    Timon entspricht eigentlich genau dem, was ich...  \n",
       "1    Ich kann mich noch sehr gut an den Moment erin...  \n",
       "2    Durchschnittlich bekommen sie für die Arbeit r...  \n",
       "3    Viele Firmen setzen im Shutdown auf Abo-Verlän...  \n",
       "4    Nach seiner Scheidung von Reality-Star Kim Kar...  \n",
       "..                                                 ...  \n",
       "195  Die Lausannerin Timea Bacsinszky gewinnt die W...  \n",
       "196  Eine Umfrage von 20 Minuten hatte fast jede*r ...  \n",
       "197  Björn Kuipers leitet das Finale der EM an dies...  \n",
       "198  Ich habe die Frau online kennengelernt und wir...  \n",
       "199  Auf Facebook und Twitter haben einige Berner P...  \n",
       "\n",
       "[200 rows x 4 columns]"
      ]
     },
     "execution_count": 9,
     "metadata": {},
     "output_type": "execute_result"
    }
   ],
   "source": [
    "summary_df"
   ]
  },
  {
   "cell_type": "code",
   "execution_count": 10,
   "metadata": {},
   "outputs": [],
   "source": [
    "summary_df.to_csv(\"../data/summary.csv\", index=False)"
   ]
  }
 ],
 "metadata": {
  "kernelspec": {
   "display_name": "venv",
   "language": "python",
   "name": "python3"
  },
  "language_info": {
   "codemirror_mode": {
    "name": "ipython",
    "version": 3
   },
   "file_extension": ".py",
   "mimetype": "text/x-python",
   "name": "python",
   "nbconvert_exporter": "python",
   "pygments_lexer": "ipython3",
   "version": "3.12.1"
  }
 },
 "nbformat": 4,
 "nbformat_minor": 2
}
