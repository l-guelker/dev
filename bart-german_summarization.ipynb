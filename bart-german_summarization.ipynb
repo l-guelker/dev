{
 "cells": [
  {
   "cell_type": "markdown",
   "metadata": {},
   "source": [
    "### Paper\n",
    "\n",
    "*[German also Hallucinates! Inconsistency Detection in News\n",
    "Summaries with the Absinth Dataset](https://aclanthology.org/2024.lrec-main.680.pdf)*"
   ]
  },
  {
   "cell_type": "code",
   "execution_count": 2,
   "metadata": {},
   "outputs": [
    {
     "name": "stderr",
     "output_type": "stream",
     "text": [
      "/workspaces/dev/venv/lib/python3.12/site-packages/tqdm/auto.py:21: TqdmWarning: IProgress not found. Please update jupyter and ipywidgets. See https://ipywidgets.readthedocs.io/en/stable/user_install.html\n",
      "  from .autonotebook import tqdm as notebook_tqdm\n"
     ]
    }
   ],
   "source": [
    "from transformers import pipeline\n",
    "from datasets import load_dataset\n",
    "from tqdm.auto import tqdm\n",
    "import random\n",
    "import pandas as pd"
   ]
  },
  {
   "cell_type": "markdown",
   "metadata": {},
   "source": [
    "### Model\n",
    "\n",
    "*[Shahm/bart-german](https://huggingface.co/Shahm/bart-german)*"
   ]
  },
  {
   "cell_type": "code",
   "execution_count": 4,
   "metadata": {},
   "outputs": [],
   "source": [
    "MAX_LEN = 2048\n",
    "DATASET_FILENAME = \"20min-all-articles.csv\"\n",
    "USED_MODEL = \"Shahm/bart-german\""
   ]
  },
  {
   "cell_type": "code",
   "execution_count": 3,
   "metadata": {},
   "outputs": [],
   "source": [
    "#summarizer = pipeline(\"summarization\", model=\"facebook/bart-large-cnn\")\n",
    "#summarizer = pipeline(\"summarization\", model=\"facebook/mbart-large-cc25\")\n",
    "summarizer = pipeline(\"summarization\", model=USED_MODEL)"
   ]
  },
  {
   "cell_type": "code",
   "execution_count": 4,
   "metadata": {},
   "outputs": [],
   "source": [
    "def summarize_text(input_text):\n",
    "    summary_text = summarizer(input_text[:MAX_LEN], min_length=25, max_length=200)[0][\"summary_text\"]\n",
    "    return summary_text"
   ]
  },
  {
   "cell_type": "markdown",
   "metadata": {},
   "source": [
    "### Dataset\n",
    "\n",
    "[ZurichNLP/20Minuten](https://github.com/ZurichNLP/20Minuten/tree/main) \n",
    "(*[Marie Luise Tono Projektseminar WS2425](https://gitlab.ub.uni-bielefeld.de/projektseminarws24-25/Marie_Luise_Tono_Projektseminar_WS2425/-/blob/main/data/20min-all-articles.csv?ref_type=heads)*)"
   ]
  },
  {
   "cell_type": "code",
   "execution_count": 5,
   "metadata": {},
   "outputs": [],
   "source": [
    "twenty_minutes_df = pd.read_csv(DATASET_FILENAME)"
   ]
  },
  {
   "cell_type": "code",
   "execution_count": 6,
   "metadata": {},
   "outputs": [
    {
     "data": {
      "text/html": [
       "<div>\n",
       "<style scoped>\n",
       "    .dataframe tbody tr th:only-of-type {\n",
       "        vertical-align: middle;\n",
       "    }\n",
       "\n",
       "    .dataframe tbody tr th {\n",
       "        vertical-align: top;\n",
       "    }\n",
       "\n",
       "    .dataframe thead th {\n",
       "        text-align: right;\n",
       "    }\n",
       "</style>\n",
       "<table border=\"1\" class=\"dataframe\">\n",
       "  <thead>\n",
       "    <tr style=\"text-align: right;\">\n",
       "      <th></th>\n",
       "      <th>file_name</th>\n",
       "      <th>text</th>\n",
       "      <th>picture_text</th>\n",
       "    </tr>\n",
       "  </thead>\n",
       "  <tbody>\n",
       "    <tr>\n",
       "      <th>0</th>\n",
       "      <td>2020-10-18_6_239897547604.json</td>\n",
       "      <td>Wegen der drastisch steigenden Corona-Zahlen g...</td>\n",
       "      <td>In Paris und acht weiteren französischen Städt...</td>\n",
       "    </tr>\n",
       "    <tr>\n",
       "      <th>1</th>\n",
       "      <td>2021-05-11_6_428561171434.json</td>\n",
       "      <td>Die Züge und Busse des Schweizer Regionalverke...</td>\n",
       "      <td>Der RBS ist in mehr als 99 Prozent der Fälle r...</td>\n",
       "    </tr>\n",
       "    <tr>\n",
       "      <th>2</th>\n",
       "      <td>2021-12-10_6_678900728110.json</td>\n",
       "      <td>Ein News-Scout aus Blonay VD war um acht Uhr m...</td>\n",
       "      <td>A u t o b a h n a b s c h n i t t   z w i s c ...</td>\n",
       "    </tr>\n",
       "    <tr>\n",
       "      <th>3</th>\n",
       "      <td>2020-04-15_6_670941183943.json</td>\n",
       "      <td>Waschmaschinen wissen, was sie tun. 90 Minuten...</td>\n",
       "      <td>Sie waschen, die Maschine meldet eine einzige ...</td>\n",
       "    </tr>\n",
       "    <tr>\n",
       "      <th>4</th>\n",
       "      <td>2020-07-29_6_777680273630.json</td>\n",
       "      <td>Die in Dubai ansässige Airline Emirates will i...</td>\n",
       "      <td>Die «Covid-19-Versicherung» ist vom Antritt de...</td>\n",
       "    </tr>\n",
       "    <tr>\n",
       "      <th>...</th>\n",
       "      <td>...</td>\n",
       "      <td>...</td>\n",
       "      <td>...</td>\n",
       "    </tr>\n",
       "    <tr>\n",
       "      <th>495</th>\n",
       "      <td>2021-08-24_6_804609690909.json</td>\n",
       "      <td>Die Schweizer Fluggesellschaft Swiss führt ein...</td>\n",
       "      <td>Bei der Swiss herrscht ab 15. November Impfpfl...</td>\n",
       "    </tr>\n",
       "    <tr>\n",
       "      <th>496</th>\n",
       "      <td>2021-07-23_6_186662834378.json</td>\n",
       "      <td>Ein Raiffeisen-Banker und seine Ehefrau dürfen...</td>\n",
       "      <td>Eine Frau hat ihrem Banker 60'000 Franken verm...</td>\n",
       "    </tr>\n",
       "    <tr>\n",
       "      <th>497</th>\n",
       "      <td>2020-04-14_6_667667443469.json</td>\n",
       "      <td>Der junge Alphirt Erwin Ramsauer verschwand am...</td>\n",
       "      <td>Der junge Alphirt Erwin Ramsauer verschwand am...</td>\n",
       "    </tr>\n",
       "    <tr>\n",
       "      <th>498</th>\n",
       "      <td>2020-04-15_6_491496211151.json</td>\n",
       "      <td>Keine Woche ohne Auto-Schlagzeilen mit Justin ...</td>\n",
       "      <td>Und plötzlich stand er still. Da nützt es auch...</td>\n",
       "    </tr>\n",
       "    <tr>\n",
       "      <th>499</th>\n",
       "      <td>2021-02-19_6_480708039099.json</td>\n",
       "      <td>Wenn es um Medizin geht, können wir von Glück ...</td>\n",
       "      <td>Aber das ist doch ...? Nein, was aussieht wie ...</td>\n",
       "    </tr>\n",
       "  </tbody>\n",
       "</table>\n",
       "<p>500 rows × 3 columns</p>\n",
       "</div>"
      ],
      "text/plain": [
       "                          file_name  \\\n",
       "0    2020-10-18_6_239897547604.json   \n",
       "1    2021-05-11_6_428561171434.json   \n",
       "2    2021-12-10_6_678900728110.json   \n",
       "3    2020-04-15_6_670941183943.json   \n",
       "4    2020-07-29_6_777680273630.json   \n",
       "..                              ...   \n",
       "495  2021-08-24_6_804609690909.json   \n",
       "496  2021-07-23_6_186662834378.json   \n",
       "497  2020-04-14_6_667667443469.json   \n",
       "498  2020-04-15_6_491496211151.json   \n",
       "499  2021-02-19_6_480708039099.json   \n",
       "\n",
       "                                                  text  \\\n",
       "0    Wegen der drastisch steigenden Corona-Zahlen g...   \n",
       "1    Die Züge und Busse des Schweizer Regionalverke...   \n",
       "2    Ein News-Scout aus Blonay VD war um acht Uhr m...   \n",
       "3    Waschmaschinen wissen, was sie tun. 90 Minuten...   \n",
       "4    Die in Dubai ansässige Airline Emirates will i...   \n",
       "..                                                 ...   \n",
       "495  Die Schweizer Fluggesellschaft Swiss führt ein...   \n",
       "496  Ein Raiffeisen-Banker und seine Ehefrau dürfen...   \n",
       "497  Der junge Alphirt Erwin Ramsauer verschwand am...   \n",
       "498  Keine Woche ohne Auto-Schlagzeilen mit Justin ...   \n",
       "499  Wenn es um Medizin geht, können wir von Glück ...   \n",
       "\n",
       "                                          picture_text  \n",
       "0    In Paris und acht weiteren französischen Städt...  \n",
       "1    Der RBS ist in mehr als 99 Prozent der Fälle r...  \n",
       "2    A u t o b a h n a b s c h n i t t   z w i s c ...  \n",
       "3    Sie waschen, die Maschine meldet eine einzige ...  \n",
       "4    Die «Covid-19-Versicherung» ist vom Antritt de...  \n",
       "..                                                 ...  \n",
       "495  Bei der Swiss herrscht ab 15. November Impfpfl...  \n",
       "496  Eine Frau hat ihrem Banker 60'000 Franken verm...  \n",
       "497  Der junge Alphirt Erwin Ramsauer verschwand am...  \n",
       "498  Und plötzlich stand er still. Da nützt es auch...  \n",
       "499  Aber das ist doch ...? Nein, was aussieht wie ...  \n",
       "\n",
       "[500 rows x 3 columns]"
      ]
     },
     "execution_count": 6,
     "metadata": {},
     "output_type": "execute_result"
    }
   ],
   "source": [
    "twenty_minutes_df"
   ]
  },
  {
   "cell_type": "code",
   "execution_count": 9,
   "metadata": {},
   "outputs": [],
   "source": [
    "def sample_20minutes(n_samples=5):\n",
    "    dataset_len = len(twenty_minutes_df)\n",
    "    sample_indices = random.sample(range(dataset_len), n_samples)\n",
    "    for i in sample_indices:\n",
    "        cur_text = twenty_minutes_df.loc[i][\"text\"]\n",
    "        print(cur_text)\n",
    "        print()\n",
    "\n",
    "        #summary_text = summarize_text(cur_text)\n",
    "        #print(summary_text)\n",
    "        print(\"-\"*100)\n"
   ]
  },
  {
   "cell_type": "code",
   "execution_count": 10,
   "metadata": {},
   "outputs": [
    {
     "name": "stdout",
     "output_type": "stream",
     "text": [
      "«Seit dem Beginn unserer Beziehung sagt Bode, ich möchte eineiige Zwillingssöhne haben, die an meinem Geburtstag geboren werden», sagt Morgan Miller in einem Interview mit dem Portal «People.com». Dieser Traum könnte nun fast gänzlich wahr werden. Denn das Paar erwartet tatsächlich zwei Söhne. Es sind eineiige Zwillinge. Für die beiden Eltern sei die Nachricht ein «totaler Schock» gewesen, sagt Morgan. Die Geburt der Zwillinge wird im November erwartet, rund einen Monat nach Bode Millers eigenem Geburtstag. Bode (41) und seine Frau Morgan (32) sind bereits Eltern des 10-monatigen Easton Vaughn Rek und dem vierjährigen Sohn Nash Skan. Bode hat zudem noch einen weiteren sechsjährigen Sohn und eine elfjährige Tochter. Erst im vergangenen Jahr war Emeline Grier, die 19-monatige Tochter von Bode und Morgan, bei einem tragischen Unfall ertrunken. Sie war an einer Party in den Pool gefallen. Zu dieser Zeit war Morgan bereits schwanger mit Easton.\n",
      "\n",
      "----------------------------------------------------------------------------------------------------\n",
      "Abgesehen von der Niederlage seines geliebten FC Arsenal gegen Manchester City hätte das neue Jahr für Jack Robinson wohl kaum besser starten können. Der US-Amerikaner aus St. Louis (Missouri) ist ein eingefleischter Fan der Gunners und hatte das Glück, am 1. Januar endlich ein Spiel seiner Lieblinge live im Stadion zu verfolgen. Gesorgt dafür hat kein Geringerer als der Schweizer Nati-Captain Granit Xhaka. «Was Granit Xhaka für mich gemacht hat diese Woche, werde ich nie vergessen. Ich werde diese Geschichte meinen Kindern erzählen und die werden sie hoffentlich auch noch ihren Kindern erzählen», schreibt Robinson in euphorischen Worten auf seinem Instagram-Account unter ein Bild, dass ihn und seine Frau mit dem Nati-Captain zeigt. Xhaka reagierte auf Twitter-Post Xhaka hatte vor einigen Tagen einen Post des Supporters auf Twitter gesehen, indem jener seinem Frust über die Absage der Arsenal-Partie gegen Wolverhampton freien Lauf liess. Robinson schrieb damals, dass er bereits vor einem halben Jahr geplant hatte, im Dezember nach London zu kommen. Zum 10-Jahre-Jubiläum der Ehe mit seiner Frau wollte er sich und seiner Gattin etwas Spezielles schenken, an das sie sich «für immer erinnern könnten». In der Tat unvergesslich wurde der Trip in die englische Hauptstadt für die beiden, nachdem Xhaka den Fan auf Instagram kontaktierte und ihn zum Spiel gegen Manchester City als seinen persönlicher Gast einlud. «Es ist eine Sache, ein Spiel im Stadion schauen zu können, aber die Erfahrung zu erleben, die ich heute gemacht habe, ist ein  absoluter Traum, der in Erfüllung geht», freut sich Robinson nach der Partie. «Du weisst, wen du anrufen kannst, wenn du in Missouri bist» Das Kräftemessen mit den Stars von Pep Guardiola hatte für Xhaka selber Licht und Schatten zu bieten. Zwar lieferte der Nati-Captain über weite Strecken eine äusserst starke Leistung ab, jedoch verursachte er gegen Bernardo Silva mit einem etwas ungeschickten Einsteigen den Penalty, der zum zwischenzeitlichen Ausgleich für die Citizens führte. Sympathiepunkte bei den Robinsons wird er deshalb aber trotzdem nicht verlieren. «Ich liebe Arsenal und Granit Xhaka für den Rest meines Lebens. Aus tiefstem Herzen danken wir dir für alles und falls du mal in Saint Louis, Missouri bist und einen Schlafplatz brauchst, weisst du nun, wen du anrufen kannst», schliesst der Arsenal-Fan sein Statement auf Instagram ab, der mit traurigen Worten seinen England-Abschied auf Twitter ankündigt.\n",
      "\n",
      "----------------------------------------------------------------------------------------------------\n",
      "«Ich glaube, ich habe einen Fehler gemacht. Ich dachte, dies sei ein Schwindel, aber das ist es nicht» - mit diesen Worten zitiert Jane Appleby, leitende Ärztin am Methodist Hospital in San Antonio im US-Bundesstaat Texas, die letzten Worte eines ihrer Patienten (siehe Video oben). Der 30-Jährige starb, nachdem er zuvor an einer sogenannten Covid-Party teilgenommen hatte. Bei solchen wetteifern die Teilnehmer - oft Studenten - darum, wer sich zuerst mit dem Virus ansteckt. In Alabama gab es für den Gewinner, also denjenigen, der nach der Party zuerst auf das Coronavirus positiv getestet wurde, sogar Geld. Der Mann, der nun den Kampf gegen das Virus verloren hat, habe gedacht, «er sei jung und unbesiegbar, es würde ihn schon nicht treffen», so Appleby. Sie betont, keine Panikmacherin zu sein. «Ich versuche nur, ein Beispiel aus der realen Welt zu übermitteln, damit die Menschen erkennen, dass dieses Virus sehr ernst ist und sich leicht verbreiten kann.» Missachtung des «Hypes» führt zum Tod Wie nötig das ist, zeigt auch das Beispiel von Richard Rose. Der 37-Jährige aus Port Clinton im US-Bundesstaat Ohio, der sowohl den Irak- als auch den Afghanistan-Krieg überlebte, hatte weder Maskenpflicht noch andere Massnahmen ernst genommen, wie man seinem Facebook-Profil entnehmen kann. Dort postete er deutliche Worte wie: «Damit eins klar ist, ich werde unter gar keinen Umständen so eine f*** Maske kaufen, den Hype mache ich nicht mit!» Dass ihm das Coronavirus keine Angst machte, zeigt auch das Foto eines Freibadbesuchs am 13. Juni 2020, bei dem keiner der Anwesenden einen Mundschutz trug. Ein Kollege kommentierte das Bild spöttisch mit «Es ist gar nicht so voll - lol!» Wichtiger Appell nach Tod Kurz darauf änderte sich der Ton seiner Posts jedoch deutlich. Am 1. Juli schreibt er «Ich war in den letzten Tagen sehr krank. Symptome von Covid-19. Heute Morgen wurde ich endlich getestet. Ich sollte bald wissen, wie das Ergebnis ausfällt. Ich möchte mich nur wieder gut fühlen.» Auf Nachfragen eines Bekannten gibt er an, dass er vermutet, sich in genau dem Freibad infiziert zu haben. Nur eine Stunde später steht fest: Rose ist positiv. Er muss in Quarantäne bleiben. Dort verschlechtert sich sein Zustand zusehends, wie seinen Posts zu entnehmen ist. Am 2. Juli berichtet er «nur vom Rumsitzen völlig ausser Atem zu sein». Am 3. Juli schrieb er, seit zwei Tagen nicht mehr schlafen zu können. Am 4. Juli war Rose tot. In einem Nachruf heisst es laut verschiedenen US-Medien: «Rick war erst in seinen 30ern und, soweit wir wissen, gesund. Er hatte nicht das Bedürfnis, eine Maske zu tragen, weil er sich jung und gesund fühlte. Bitte nehmt zur Kenntnis, dass dieses Virus real ist. Nur weil Ihr niemanden kennt, der betroffen ist, heisst das nicht, dass es nicht existiert.»\n",
      "\n",
      "----------------------------------------------------------------------------------------------------\n"
     ]
    }
   ],
   "source": [
    "sample_20minutes(3)"
   ]
  },
  {
   "cell_type": "markdown",
   "metadata": {},
   "source": [
    "### Save Data"
   ]
  },
  {
   "cell_type": "code",
   "execution_count": 8,
   "metadata": {},
   "outputs": [
    {
     "data": {
      "application/vnd.jupyter.widget-view+json": {
       "model_id": "27bd7b71f392443bb7358990c8cd8c88",
       "version_major": 2,
       "version_minor": 0
      },
      "text/plain": [
       "  0%|          | 0/200 [00:00<?, ?it/s]"
      ]
     },
     "metadata": {},
     "output_type": "display_data"
    },
    {
     "name": "stderr",
     "output_type": "stream",
     "text": [
      "Your max_length is set to 200, but your input_length is only 26. Since this is a summarization task, where outputs shorter than the input are typically wanted, you might consider decreasing max_length manually, e.g. summarizer('...', max_length=13)\n",
      "Your max_length is set to 200, but your input_length is only 11. Since this is a summarization task, where outputs shorter than the input are typically wanted, you might consider decreasing max_length manually, e.g. summarizer('...', max_length=5)\n"
     ]
    }
   ],
   "source": [
    "summary_df = pd.DataFrame(columns=[\"id\",\"model\",\"text\",\"summary\",\"model\"])\n",
    "\n",
    "for i in tqdm(range(len(twenty_minutes_df))):\n",
    "    cur_model = USED_MODEL\n",
    "    cur_text = twenty_minutes_df.loc[i][\"text\"]\n",
    "    cur_simpli = twenty_minutes_df.loc[i][\"simplification\"]\n",
    "    cur_summary = summarize_text(cur_text)\n",
    "\n",
    "    summary_df.loc[i] = [i, cur_text, cur_simpli, cur_summary]"
   ]
  },
  {
   "cell_type": "code",
   "execution_count": 9,
   "metadata": {},
   "outputs": [
    {
     "data": {
      "text/html": [
       "<div>\n",
       "<style scoped>\n",
       "    .dataframe tbody tr th:only-of-type {\n",
       "        vertical-align: middle;\n",
       "    }\n",
       "\n",
       "    .dataframe tbody tr th {\n",
       "        vertical-align: top;\n",
       "    }\n",
       "\n",
       "    .dataframe thead th {\n",
       "        text-align: right;\n",
       "    }\n",
       "</style>\n",
       "<table border=\"1\" class=\"dataframe\">\n",
       "  <thead>\n",
       "    <tr style=\"text-align: right;\">\n",
       "      <th></th>\n",
       "      <th>id</th>\n",
       "      <th>original</th>\n",
       "      <th>simplification</th>\n",
       "      <th>summary</th>\n",
       "    </tr>\n",
       "  </thead>\n",
       "  <tbody>\n",
       "    <tr>\n",
       "      <th>0</th>\n",
       "      <td>0</td>\n",
       "      <td>Ich date jetzt schon seit längerer Zeit Timon....</td>\n",
       "      <td>Lars datet seit einiger Zeit Timon. Eigentlich...</td>\n",
       "      <td>Timon entspricht eigentlich genau dem, was ich...</td>\n",
       "    </tr>\n",
       "    <tr>\n",
       "      <th>1</th>\n",
       "      <td>1</td>\n",
       "      <td>Ich kann mich noch sehr gut an den Moment erin...</td>\n",
       "      <td>Weil ihr Vater unfruchtbar ist, wurde G.C. 199...</td>\n",
       "      <td>Ich kann mich noch sehr gut an den Moment erin...</td>\n",
       "    </tr>\n",
       "    <tr>\n",
       "      <th>2</th>\n",
       "      <td>2</td>\n",
       "      <td>In tausenden Schweizer Privathaushalten kümmer...</td>\n",
       "      <td>Putzhilfen, Babysitter und sonstige Haushaltsa...</td>\n",
       "      <td>Durchschnittlich bekommen sie für die Arbeit r...</td>\n",
       "    </tr>\n",
       "    <tr>\n",
       "      <th>3</th>\n",
       "      <td>3</td>\n",
       "      <td>Im Studio Gewichte stemmen und auf dem Laufban...</td>\n",
       "      <td>Clever-Fit schreibt die Shutdown-Zeit nicht au...</td>\n",
       "      <td>Viele Firmen setzen im Shutdown auf Abo-Verlän...</td>\n",
       "    </tr>\n",
       "    <tr>\n",
       "      <th>4</th>\n",
       "      <td>4</td>\n",
       "      <td>Gerade erst wurde Kanye West (43) noch inklusi...</td>\n",
       "      <td>Gerüchten zufolge sollen Kanye West (43) und I...</td>\n",
       "      <td>Nach seiner Scheidung von Reality-Star Kim Kar...</td>\n",
       "    </tr>\n",
       "    <tr>\n",
       "      <th>...</th>\n",
       "      <td>...</td>\n",
       "      <td>...</td>\n",
       "      <td>...</td>\n",
       "      <td>...</td>\n",
       "    </tr>\n",
       "    <tr>\n",
       "      <th>195</th>\n",
       "      <td>195</td>\n",
       "      <td>Mit 32 Jahren, nach 18 Jahren als Profi, nach ...</td>\n",
       "      <td>Die Schweizer Tennisspielerin Timea Bacsinszky...</td>\n",
       "      <td>Die Lausannerin Timea Bacsinszky gewinnt die W...</td>\n",
       "    </tr>\n",
       "    <tr>\n",
       "      <th>196</th>\n",
       "      <td>196</td>\n",
       "      <td>Laut der grossen Sex-Umfrage von 20 Minuten (s...</td>\n",
       "      <td>Laut der Sex-Umfrage von 20 Minuten hatte fast...</td>\n",
       "      <td>Eine Umfrage von 20 Minuten hatte fast jede*r ...</td>\n",
       "    </tr>\n",
       "    <tr>\n",
       "      <th>197</th>\n",
       "      <td>197</td>\n",
       "      <td>Der niederländische Schiedsrichter Björn Kuipe...</td>\n",
       "      <td>Der älteste Schiedsrichter des Turniers pfeift...</td>\n",
       "      <td>Björn Kuipers leitet das Finale der EM an dies...</td>\n",
       "    </tr>\n",
       "    <tr>\n",
       "      <th>198</th>\n",
       "      <td>198</td>\n",
       "      <td>Ich habe die Frau online kennengelernt und wir...</td>\n",
       "      <td>Nando (26) lernte sein Date online kennen. Die...</td>\n",
       "      <td>Ich habe die Frau online kennengelernt und wir...</td>\n",
       "    </tr>\n",
       "    <tr>\n",
       "      <th>199</th>\n",
       "      <td>199</td>\n",
       "      <td>Die Kantonspolizei Bern sorgt erneut für negat...</td>\n",
       "      <td>Die Kantonspolizei geriet in den letzten Tagen...</td>\n",
       "      <td>Auf Facebook und Twitter haben einige Berner P...</td>\n",
       "    </tr>\n",
       "  </tbody>\n",
       "</table>\n",
       "<p>200 rows × 4 columns</p>\n",
       "</div>"
      ],
      "text/plain": [
       "      id                                           original  \\\n",
       "0      0  Ich date jetzt schon seit längerer Zeit Timon....   \n",
       "1      1  Ich kann mich noch sehr gut an den Moment erin...   \n",
       "2      2  In tausenden Schweizer Privathaushalten kümmer...   \n",
       "3      3  Im Studio Gewichte stemmen und auf dem Laufban...   \n",
       "4      4  Gerade erst wurde Kanye West (43) noch inklusi...   \n",
       "..   ...                                                ...   \n",
       "195  195  Mit 32 Jahren, nach 18 Jahren als Profi, nach ...   \n",
       "196  196  Laut der grossen Sex-Umfrage von 20 Minuten (s...   \n",
       "197  197  Der niederländische Schiedsrichter Björn Kuipe...   \n",
       "198  198  Ich habe die Frau online kennengelernt und wir...   \n",
       "199  199  Die Kantonspolizei Bern sorgt erneut für negat...   \n",
       "\n",
       "                                        simplification  \\\n",
       "0    Lars datet seit einiger Zeit Timon. Eigentlich...   \n",
       "1    Weil ihr Vater unfruchtbar ist, wurde G.C. 199...   \n",
       "2    Putzhilfen, Babysitter und sonstige Haushaltsa...   \n",
       "3    Clever-Fit schreibt die Shutdown-Zeit nicht au...   \n",
       "4    Gerüchten zufolge sollen Kanye West (43) und I...   \n",
       "..                                                 ...   \n",
       "195  Die Schweizer Tennisspielerin Timea Bacsinszky...   \n",
       "196  Laut der Sex-Umfrage von 20 Minuten hatte fast...   \n",
       "197  Der älteste Schiedsrichter des Turniers pfeift...   \n",
       "198  Nando (26) lernte sein Date online kennen. Die...   \n",
       "199  Die Kantonspolizei geriet in den letzten Tagen...   \n",
       "\n",
       "                                               summary  \n",
       "0    Timon entspricht eigentlich genau dem, was ich...  \n",
       "1    Ich kann mich noch sehr gut an den Moment erin...  \n",
       "2    Durchschnittlich bekommen sie für die Arbeit r...  \n",
       "3    Viele Firmen setzen im Shutdown auf Abo-Verlän...  \n",
       "4    Nach seiner Scheidung von Reality-Star Kim Kar...  \n",
       "..                                                 ...  \n",
       "195  Die Lausannerin Timea Bacsinszky gewinnt die W...  \n",
       "196  Eine Umfrage von 20 Minuten hatte fast jede*r ...  \n",
       "197  Björn Kuipers leitet das Finale der EM an dies...  \n",
       "198  Ich habe die Frau online kennengelernt und wir...  \n",
       "199  Auf Facebook und Twitter haben einige Berner P...  \n",
       "\n",
       "[200 rows x 4 columns]"
      ]
     },
     "execution_count": 9,
     "metadata": {},
     "output_type": "execute_result"
    }
   ],
   "source": [
    "summary_df"
   ]
  },
  {
   "cell_type": "code",
   "execution_count": 10,
   "metadata": {},
   "outputs": [],
   "source": [
    "summary_df.to_csv(\"../data/summary.csv\", index=False)"
   ]
  }
 ],
 "metadata": {
  "kernelspec": {
   "display_name": "venv",
   "language": "python",
   "name": "python3"
  },
  "language_info": {
   "codemirror_mode": {
    "name": "ipython",
    "version": 3
   },
   "file_extension": ".py",
   "mimetype": "text/x-python",
   "name": "python",
   "nbconvert_exporter": "python",
   "pygments_lexer": "ipython3",
   "version": "3.12.1"
  }
 },
 "nbformat": 4,
 "nbformat_minor": 2
}
