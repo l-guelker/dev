{
 "cells": [
  {
   "cell_type": "markdown",
   "metadata": {},
   "source": [
    "### Paper\n",
    "\n",
    "*[German also Hallucinates! Inconsistency Detection in News\n",
    "Summaries with the Absinth Dataset](https://aclanthology.org/2024.lrec-main.680.pdf)*"
   ]
  },
  {
   "cell_type": "code",
   "execution_count": 1,
   "metadata": {},
   "outputs": [],
   "source": [
    "from transformers import pipeline\n",
    "from datasets import load_dataset\n",
    "from tqdm.auto import tqdm\n",
    "import random\n",
    "import pandas as pd"
   ]
  },
  {
   "cell_type": "markdown",
   "metadata": {},
   "source": [
    "### Model\n",
    "\n",
    "*[Shahm/bart-german](https://huggingface.co/Shahm/bart-german)*"
   ]
  },
  {
   "cell_type": "code",
   "execution_count": 2,
   "metadata": {},
   "outputs": [],
   "source": [
    "MAX_LEN = 2048"
   ]
  },
  {
   "cell_type": "code",
   "execution_count": 3,
   "metadata": {},
   "outputs": [],
   "source": [
    "#summarizer = pipeline(\"summarization\", model=\"facebook/bart-large-cnn\")\n",
    "#summarizer = pipeline(\"summarization\", model=\"facebook/mbart-large-cc25\")\n",
    "summarizer = pipeline(\"summarization\", model=\"Shahm/bart-german\")"
   ]
  },
  {
   "cell_type": "code",
   "execution_count": 4,
   "metadata": {},
   "outputs": [],
   "source": [
    "def summarize_text(input_text):\n",
    "    summary_text = summarizer(input_text[:MAX_LEN], min_length=25, max_length=200)[0][\"summary_text\"]\n",
    "    return summary_text"
   ]
  },
  {
   "cell_type": "markdown",
   "metadata": {},
   "source": [
    "### Dataset\n",
    "\n",
    "*[jonathandechert/20Minuten](https://huggingface.co/datasets/jonathandechert/20Minuten)*"
   ]
  },
  {
   "cell_type": "code",
   "execution_count": 5,
   "metadata": {},
   "outputs": [
    {
     "data": {
      "text/plain": [
       "Dataset({\n",
       "    features: ['original', 'simplification'],\n",
       "    num_rows: 200\n",
       "})"
      ]
     },
     "execution_count": 5,
     "metadata": {},
     "output_type": "execute_result"
    }
   ],
   "source": [
    "twenty_minutes_ds = load_dataset(\"jonathandechert/20Minuten\", split=\"test\")\n",
    "twenty_minutes_ds"
   ]
  },
  {
   "cell_type": "code",
   "execution_count": 6,
   "metadata": {},
   "outputs": [],
   "source": [
    "def sample_20minutes(n_samples=5):\n",
    "    dataset_len = len(twenty_minutes_ds)\n",
    "    sample_indices = random.sample(range(dataset_len), n_samples)\n",
    "    for i in sample_indices:\n",
    "        cur_text = twenty_minutes_ds[i][\"original\"]\n",
    "        print(cur_text)\n",
    "        print()\n",
    "\n",
    "        summary_text = summarize_text(cur_text)\n",
    "        print(summary_text)\n",
    "        print(\"-\"*100)\n"
   ]
  },
  {
   "cell_type": "code",
   "execution_count": 7,
   "metadata": {},
   "outputs": [
    {
     "name": "stdout",
     "output_type": "stream",
     "text": [
      "Ich konnte meine Antidepressiva absetzenSandra N.* (33) Ich hatte mein zweites Burnout im Sommer 2019 und musste Antidepressiva und Entspannungstabletten nehmen. Ich bin per Zufall auf einen Post eines befreundeten Ernährungsberaters gestossen, wo dieser erklärt, wie eine gestörte Hormonsituation ein Burnout auslösen kann. Seit Oktober 2019 arbeite ich mit ihm zusammen und nehme Nahrungsergänzungsmittel. Einige Wochen nach Beginn der Zusammenarbeit konnte ich sowohl die Antidepressiva, als auch die Entspannungstabletten absetzen und habe nie wieder etwas davon gebraucht. Zudem führe ich eine App, wo ich mein Essen eingebe, um meine Werte zu erreichen. Mir ging es davor sehr schlecht. Ich bin während der Arbeit wegen meinen Schlafstörungen im Stehen fast eingeschlafen und konnte meine Augen kaum aufhalten. Nach drei Wochen ging es mir schon viel besser. Im April 2020 habe ich meine Burnout-Therapie beendet. Ich bin überglücklich und fühle mich so gut wie noch nie. Ich bin froh, dass ich das so gemacht habe. Aber es ist wichtig auch andere Aspekte zu betrachten und nicht einfach blindlings Nahrungsergänzungsmittel einzunehmen. Mein Coach bestellt die Nahrungsergänzungsmittel in Amerika. Dort sind sie viel günstiger und höher dosiert als in der Schweiz - ist schon echt frech was hier verlangt wird. Ihre Kosten im Monat liegen bei ca. 100 Franken. Ich habe ausprobiert, was mir gut tut Fabian M.* (34) aus der Bodenseeregion Vor einigen Jahren ist Schizophrenie bei mir diagnostiziert worden. Bei einem Klinikaufenthalt sind mir auch diverse Medikamente verschrieben worden, die nicht viel genutzt haben. Seit zwei Jahren nehme ich verschiedene Nahrungsergänzungsmittel, die sich sehr positiv auf meine psychische Gesundheit ausgewirkt haben. Intuitiv bin ich auf Schwarzkümmelöl gestossen, welches einen hohen Gehalt an mehrfach ungesättigten Fettsäuren aufweist und zudem Vitamin B und Vitamin E enthält. Da ich selbst gemerkt habe, dass Nahrungsergänzungsmittel einen positiven Einfluss auf meine Psyche haben, habe ich weiter ausprobiert, was mir gut tut und so habe ich nun eine Zusammenstellung von Vitaminen, Mineralien, Spurenelementen, Antioxidanzien und Fettsäuren, die mir helfen. Nach eigenständiger Konsultation zahlreicher wissenschaftlicher Studien habe ich zusammen mit einem Kollegen eine App entwickelt, mit der man die Einnahme der Supplements und den resultierenden Gemütszustand protokollieren kann. Es ist wichtig, eigenständig auf seine Gesundheit zu achten. Nahrungsergänzungsmittel sind meiner Meinung nach ein guter Weg. Für mich ist es eine Vorsorge-InvestitionSandra B.* (34) aus dem Thurgau Ich nehme seit etwa sechs Jahren täglich Nahrungsergänzungsmittel ein. Dabei handelt es sich um ein Package, bestehend aus dem Vitamin B-Komplex, C, E, A, vielen Pflanzenfasern, Ballaststoffe, Probiotika. Natürlich fehlen auch die Mineralstoffe, Spurenelemente und Vitamin D3 nicht. Es ist alles in flüssiger Form, da die Vitamine so vom Körper besser aufgenommen werden. Die Empfehlung für diese Kur habe ich von einer Kollegin erhalten. Zuerst war ich sehr skeptisch, habe aber nachdem ich es ausprobierte, festgestellt, dass mir die Einnahme gut tut. Ich hatte zuvor Probleme mit der Verdauung und regelmässige Blasenentzündungen - beides Beschwerden, die ich seit ich Nahrungsergänzungsmittel nehme, nicht mehr habe. Ich erhalte mein Abo alle drei Monate per Post, für 120 Franken monatlich. Mir ist es wichtig,  dass es qualitativ hochwertige Produkte sind. Für mich ist es auch eine Vorsorge-Investition, da ich nicht mit der täglichen Nahrung fünf Portionen Gemüse und Früchte einnehme. Mit der Ergänzung kann ich Lücken schliessen, damit ich optimal den ganzen Tag versorgt bin. Heute kann ich wieder Gemüse essenPatrick K.* (29), aus Zürich Oberland Vor sechs Jahren wurde bei mir die Autoimmunerkrankung Hashimoto und ein sehr tiefer Vitamin D-Spiegel festgestellt. Aus diesem Grund musste ich lang Hormone schlucken. Seit drei Monaten nehme ich aus diesem Grund Vitamin D-Präparate. Damit habe ich nur gute Erfahrungen gemacht. Zum einen zeigen meine Blutwerte gute Vitamin D-Sättigung. Gleichzeitig hat sich dadurch meine Lebensqualität physisch und psychisch verbessert: Früher hatte ich immer wieder Gelenkschmerzen und Herzrasen und war dementsprechend schlecht gelaunt, gar leicht depressiv. Das ist seit drei Monaten nicht mehr nachzuweisen. Auch meine Verdauung hat sich massiv verbessert, so dass ich nun gewisse Gemüsesorten wieder essen kann. Als ich die Empfehlung von einem Arbeitskollegen erhalten habe, hätte ich nie gedacht, dass das solch einen Einfluss haben könnte. Mein Leben hat sich dadurch stark verbessert. Natürlich sollte man sich vor der Einnahme gut informieren und einlesen. Ich habe dies mittels verschiedener Quellen im Internet gemacht. Bei einer Seite bestelle ich auch diverse Präparate, die bei einem Vitamin D-Mangel empfohlen werden. Im Wert von rund 30 Franken monatlich. *Name der Redaktion bekannt.\n",
      "\n",
      "Sandra N.* hatte mein zweites Burnout im Sommer 2019 und musste Antidepressiva und Entspannungstabletten nehmen.\n",
      "----------------------------------------------------------------------------------------------------\n",
      "Als News-Scout Toni Kurz am Mittwochmorgen zur Arbeit fahren will und zu seinem Parkplatz läuft, zweifelt er plötzlich an seinem Verstand. Der Parkplatz vor seinem Zuhause in Einigen BE war leer, sein Audi Q5 nirgends. Ich fragte mich, ob ich eine falsche Erinnerung hatte und es andernorts parkiert hatte. Danach glaubte ich, dass mir meine Freunde einen Streich spielen. Erst als er ein offensichtlich gestohlenes Velo neben dem Parkplatz sah, gingen dem Oberländer die Lichter auf - und sein Gemüt verdunkelte sich. Ich fühlte mich wie im falschen Film. Umgehend alarmierte der 27-Jährige die Kapo Bern: Ich hatte den Audi Q5 erst seit zwei Jahren. Der Neuwert des Wagens betrug rund 100000 Franken. Eine Patrouille kommt zu Hilfe und nimmt alle nötigen Angaben auf, damit das Fahrzeug als gestohlen gemeldet werden kann. Doch für 20 Minuten-Leser Kurz wird der Tag noch weit düsterer. Nach bangen zwei Stunden klingelt das Telefon beim Mit-Gründer von Outletking.ch. Die Kantonspolizei Bern fand das Auto im Emmental. Zunächst freute ich mich, doch dann erklärte man mir, dass es in einen Unfall verwickelt war. Dabei sei ein Totalschaden entstanden. Noch schlimmer: Der Mann, der das Auto gelenkt hatte, wurde dabei verletzt und musste hospitalisiert werden. Die Kantonspolizei Bern bestätigt gegenüber 20 Minuten, dass im Dorf Einigen ein Auto als gestohlen gemeldet wurde und dieses wenige Stunden später bei der Gemeinde Zäziwil aufgefunden wurde. Der Lenker kam im Oberthal in einer Linkskurve von der Strasse und fuhr mit dem Auto in ein Bachbett, so Kapo-Sprecher Patrick Jean. Der Mann musste im Spital behandelt werden, wurde jedoch mittlerweile für Abklärungen auf eine Polizeiwache gebracht. Die Einzelheiten sind derzeit Gegenstand der Ermittlungen - etwa ob der Lenker das Fahrzeug entwendet hat oder warum das Auto von der Strasse abkam. Für News-Scout Toni Kurz spielt dies keine Rolle. Er ist froh, dass dem Lenker nichts Schlimmes passiert ist. Es macht mich aber auch traurig um meinen schönen und geliebten Q5. Er habe bereits den Papierkram mit der Versicherung aufgenommen. In der Zwischenzeit werden mich meine Freunde chauffieren müssen. Es gibt Schlimmeres.\n",
      "\n",
      "Als News-Scout Toni Kurz zur Arbeit fahren will und zu seinem Parkplatz läuft, zweifelt er plötzlich an seinem Verstand.\n",
      "----------------------------------------------------------------------------------------------------\n",
      "Die Arbeitslosenzahlen haben sich leicht erholt. Das Staatssekretariat für Wirtschaft (Seco) meldet für Ende März 157968 eingeschriebene Arbeitslose. Das sind 9985 weniger als im Vormonat. Die Arbeitslosenquote sank damit von 3 6 Prozent im Februar 2021 auf 3 4 Prozent im Berichtsmonat. Allerdings erhöhte sich die Arbeitslosigkeit gegenüber dem Vorjahresmonat um 22344 Personen. Damit lag die Arbeitslosenzahl Ende März 2020 zum Beginn der Corona-Krise noch 16 5 Prozent tiefer als jetzt. Besserung gibt es auch bei der Jugendarbeitslosigkeit. Bei den 15- bis 24-Jährigen verringerte sich die Arbeitslosenzahl um 1767 Personen, das entspricht einem Rückgang um 10 2 Prozent auf 15561. Im Vergleich zum Vorjahresmonat sind es 1005 Personen oder 6 9 Prozent mehr. Die Kurzarbeit ist in immer mehr Betrieben Alltag. Im Januar nahmen sie 47460 Firmen in Anspruch, 36 9 Prozent mehr als im Vormonat. 399667 Personen waren so von Kurzarbeit betroffen, ein Anstieg von 105989 Personen oder 36 1 Prozent im Vergleich zu Dezember 2020. Im Vorjahr waren es noch 3717 Personen in 178 Betrieben. Nicht alle Arbeitslose sind beim RAV angemeldet. Allein im Januar wurden 3356 Personen ausgesteuert und bekommen seither keine Arbeitslosenentschädigung mehr. Insgesamt meldet das Seco im März 253939 registrierte Stellensuchende. Das sind 5796 weniger als im Vormonat. Gegenüber dem Vorjahreszeitraum stieg diese Zahl aber um 40042 Personen oder 18 7 Prozent.\n",
      "\n",
      "Das Staatssekretariat für Wirtschaft meldet für Ende März 157968 eingeschriebene Arbeitslose. Das sind 9985 weniger als im Vormonat.\n",
      "----------------------------------------------------------------------------------------------------\n"
     ]
    }
   ],
   "source": [
    "sample_20minutes(3)"
   ]
  },
  {
   "cell_type": "markdown",
   "metadata": {},
   "source": [
    "### Save Data"
   ]
  },
  {
   "cell_type": "code",
   "execution_count": 8,
   "metadata": {},
   "outputs": [
    {
     "data": {
      "application/vnd.jupyter.widget-view+json": {
       "model_id": "27bd7b71f392443bb7358990c8cd8c88",
       "version_major": 2,
       "version_minor": 0
      },
      "text/plain": [
       "  0%|          | 0/200 [00:00<?, ?it/s]"
      ]
     },
     "metadata": {},
     "output_type": "display_data"
    },
    {
     "name": "stderr",
     "output_type": "stream",
     "text": [
      "Your max_length is set to 200, but your input_length is only 26. Since this is a summarization task, where outputs shorter than the input are typically wanted, you might consider decreasing max_length manually, e.g. summarizer('...', max_length=13)\n",
      "Your max_length is set to 200, but your input_length is only 11. Since this is a summarization task, where outputs shorter than the input are typically wanted, you might consider decreasing max_length manually, e.g. summarizer('...', max_length=5)\n"
     ]
    }
   ],
   "source": [
    "summary_df = pd.DataFrame(columns=[\"id\",\"original\",\"simplification\",\"summary\"])\n",
    "\n",
    "for i in tqdm(range(len(twenty_minutes_ds))):\n",
    "    cur_text = twenty_minutes_ds[i][\"original\"]\n",
    "    cur_simpli = twenty_minutes_ds[i][\"simplification\"]\n",
    "    cur_summary = summarize_text(cur_text)\n",
    "\n",
    "    summary_df.loc[i] = [i, cur_text, cur_simpli, cur_summary]"
   ]
  },
  {
   "cell_type": "code",
   "execution_count": 9,
   "metadata": {},
   "outputs": [
    {
     "data": {
      "text/html": [
       "<div>\n",
       "<style scoped>\n",
       "    .dataframe tbody tr th:only-of-type {\n",
       "        vertical-align: middle;\n",
       "    }\n",
       "\n",
       "    .dataframe tbody tr th {\n",
       "        vertical-align: top;\n",
       "    }\n",
       "\n",
       "    .dataframe thead th {\n",
       "        text-align: right;\n",
       "    }\n",
       "</style>\n",
       "<table border=\"1\" class=\"dataframe\">\n",
       "  <thead>\n",
       "    <tr style=\"text-align: right;\">\n",
       "      <th></th>\n",
       "      <th>id</th>\n",
       "      <th>original</th>\n",
       "      <th>simplification</th>\n",
       "      <th>summary</th>\n",
       "    </tr>\n",
       "  </thead>\n",
       "  <tbody>\n",
       "    <tr>\n",
       "      <th>0</th>\n",
       "      <td>0</td>\n",
       "      <td>Ich date jetzt schon seit längerer Zeit Timon....</td>\n",
       "      <td>Lars datet seit einiger Zeit Timon. Eigentlich...</td>\n",
       "      <td>Timon entspricht eigentlich genau dem, was ich...</td>\n",
       "    </tr>\n",
       "    <tr>\n",
       "      <th>1</th>\n",
       "      <td>1</td>\n",
       "      <td>Ich kann mich noch sehr gut an den Moment erin...</td>\n",
       "      <td>Weil ihr Vater unfruchtbar ist, wurde G.C. 199...</td>\n",
       "      <td>Ich kann mich noch sehr gut an den Moment erin...</td>\n",
       "    </tr>\n",
       "    <tr>\n",
       "      <th>2</th>\n",
       "      <td>2</td>\n",
       "      <td>In tausenden Schweizer Privathaushalten kümmer...</td>\n",
       "      <td>Putzhilfen, Babysitter und sonstige Haushaltsa...</td>\n",
       "      <td>Durchschnittlich bekommen sie für die Arbeit r...</td>\n",
       "    </tr>\n",
       "    <tr>\n",
       "      <th>3</th>\n",
       "      <td>3</td>\n",
       "      <td>Im Studio Gewichte stemmen und auf dem Laufban...</td>\n",
       "      <td>Clever-Fit schreibt die Shutdown-Zeit nicht au...</td>\n",
       "      <td>Viele Firmen setzen im Shutdown auf Abo-Verlän...</td>\n",
       "    </tr>\n",
       "    <tr>\n",
       "      <th>4</th>\n",
       "      <td>4</td>\n",
       "      <td>Gerade erst wurde Kanye West (43) noch inklusi...</td>\n",
       "      <td>Gerüchten zufolge sollen Kanye West (43) und I...</td>\n",
       "      <td>Nach seiner Scheidung von Reality-Star Kim Kar...</td>\n",
       "    </tr>\n",
       "    <tr>\n",
       "      <th>...</th>\n",
       "      <td>...</td>\n",
       "      <td>...</td>\n",
       "      <td>...</td>\n",
       "      <td>...</td>\n",
       "    </tr>\n",
       "    <tr>\n",
       "      <th>195</th>\n",
       "      <td>195</td>\n",
       "      <td>Mit 32 Jahren, nach 18 Jahren als Profi, nach ...</td>\n",
       "      <td>Die Schweizer Tennisspielerin Timea Bacsinszky...</td>\n",
       "      <td>Die Lausannerin Timea Bacsinszky gewinnt die W...</td>\n",
       "    </tr>\n",
       "    <tr>\n",
       "      <th>196</th>\n",
       "      <td>196</td>\n",
       "      <td>Laut der grossen Sex-Umfrage von 20 Minuten (s...</td>\n",
       "      <td>Laut der Sex-Umfrage von 20 Minuten hatte fast...</td>\n",
       "      <td>Eine Umfrage von 20 Minuten hatte fast jede*r ...</td>\n",
       "    </tr>\n",
       "    <tr>\n",
       "      <th>197</th>\n",
       "      <td>197</td>\n",
       "      <td>Der niederländische Schiedsrichter Björn Kuipe...</td>\n",
       "      <td>Der älteste Schiedsrichter des Turniers pfeift...</td>\n",
       "      <td>Björn Kuipers leitet das Finale der EM an dies...</td>\n",
       "    </tr>\n",
       "    <tr>\n",
       "      <th>198</th>\n",
       "      <td>198</td>\n",
       "      <td>Ich habe die Frau online kennengelernt und wir...</td>\n",
       "      <td>Nando (26) lernte sein Date online kennen. Die...</td>\n",
       "      <td>Ich habe die Frau online kennengelernt und wir...</td>\n",
       "    </tr>\n",
       "    <tr>\n",
       "      <th>199</th>\n",
       "      <td>199</td>\n",
       "      <td>Die Kantonspolizei Bern sorgt erneut für negat...</td>\n",
       "      <td>Die Kantonspolizei geriet in den letzten Tagen...</td>\n",
       "      <td>Auf Facebook und Twitter haben einige Berner P...</td>\n",
       "    </tr>\n",
       "  </tbody>\n",
       "</table>\n",
       "<p>200 rows × 4 columns</p>\n",
       "</div>"
      ],
      "text/plain": [
       "      id                                           original  \\\n",
       "0      0  Ich date jetzt schon seit längerer Zeit Timon....   \n",
       "1      1  Ich kann mich noch sehr gut an den Moment erin...   \n",
       "2      2  In tausenden Schweizer Privathaushalten kümmer...   \n",
       "3      3  Im Studio Gewichte stemmen und auf dem Laufban...   \n",
       "4      4  Gerade erst wurde Kanye West (43) noch inklusi...   \n",
       "..   ...                                                ...   \n",
       "195  195  Mit 32 Jahren, nach 18 Jahren als Profi, nach ...   \n",
       "196  196  Laut der grossen Sex-Umfrage von 20 Minuten (s...   \n",
       "197  197  Der niederländische Schiedsrichter Björn Kuipe...   \n",
       "198  198  Ich habe die Frau online kennengelernt und wir...   \n",
       "199  199  Die Kantonspolizei Bern sorgt erneut für negat...   \n",
       "\n",
       "                                        simplification  \\\n",
       "0    Lars datet seit einiger Zeit Timon. Eigentlich...   \n",
       "1    Weil ihr Vater unfruchtbar ist, wurde G.C. 199...   \n",
       "2    Putzhilfen, Babysitter und sonstige Haushaltsa...   \n",
       "3    Clever-Fit schreibt die Shutdown-Zeit nicht au...   \n",
       "4    Gerüchten zufolge sollen Kanye West (43) und I...   \n",
       "..                                                 ...   \n",
       "195  Die Schweizer Tennisspielerin Timea Bacsinszky...   \n",
       "196  Laut der Sex-Umfrage von 20 Minuten hatte fast...   \n",
       "197  Der älteste Schiedsrichter des Turniers pfeift...   \n",
       "198  Nando (26) lernte sein Date online kennen. Die...   \n",
       "199  Die Kantonspolizei geriet in den letzten Tagen...   \n",
       "\n",
       "                                               summary  \n",
       "0    Timon entspricht eigentlich genau dem, was ich...  \n",
       "1    Ich kann mich noch sehr gut an den Moment erin...  \n",
       "2    Durchschnittlich bekommen sie für die Arbeit r...  \n",
       "3    Viele Firmen setzen im Shutdown auf Abo-Verlän...  \n",
       "4    Nach seiner Scheidung von Reality-Star Kim Kar...  \n",
       "..                                                 ...  \n",
       "195  Die Lausannerin Timea Bacsinszky gewinnt die W...  \n",
       "196  Eine Umfrage von 20 Minuten hatte fast jede*r ...  \n",
       "197  Björn Kuipers leitet das Finale der EM an dies...  \n",
       "198  Ich habe die Frau online kennengelernt und wir...  \n",
       "199  Auf Facebook und Twitter haben einige Berner P...  \n",
       "\n",
       "[200 rows x 4 columns]"
      ]
     },
     "execution_count": 9,
     "metadata": {},
     "output_type": "execute_result"
    }
   ],
   "source": [
    "summary_df"
   ]
  },
  {
   "cell_type": "code",
   "execution_count": 10,
   "metadata": {},
   "outputs": [],
   "source": [
    "summary_df.to_csv(\"../data/summary.csv\", index=False)"
   ]
  }
 ],
 "metadata": {
  "kernelspec": {
   "display_name": "venv",
   "language": "python",
   "name": "python3"
  },
  "language_info": {
   "codemirror_mode": {
    "name": "ipython",
    "version": 3
   },
   "file_extension": ".py",
   "mimetype": "text/x-python",
   "name": "python",
   "nbconvert_exporter": "python",
   "pygments_lexer": "ipython3",
   "version": "3.11.8"
  }
 },
 "nbformat": 4,
 "nbformat_minor": 2
}
