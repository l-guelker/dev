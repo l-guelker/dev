{
 "cells": [
  {
   "cell_type": "markdown",
   "metadata": {},
   "source": [
    "## Summary in Artikel-Satzpaare aufteilen"
   ]
  },
  {
   "cell_type": "markdown",
   "metadata": {},
   "source": [
    "### Setup"
   ]
  },
  {
   "cell_type": "code",
   "execution_count": 15,
   "metadata": {},
   "outputs": [],
   "source": [
    "import pandas as pd\n",
    "import re"
   ]
  },
  {
   "cell_type": "code",
   "execution_count": 2,
   "metadata": {},
   "outputs": [],
   "source": [
    "SUMMARY_CSV_FILENAME = \"mixtral_summary.csv\""
   ]
  },
  {
   "cell_type": "code",
   "execution_count": 3,
   "metadata": {},
   "outputs": [
    {
     "data": {
      "text/html": [
       "<div>\n",
       "<style scoped>\n",
       "    .dataframe tbody tr th:only-of-type {\n",
       "        vertical-align: middle;\n",
       "    }\n",
       "\n",
       "    .dataframe tbody tr th {\n",
       "        vertical-align: top;\n",
       "    }\n",
       "\n",
       "    .dataframe thead th {\n",
       "        text-align: right;\n",
       "    }\n",
       "</style>\n",
       "<table border=\"1\" class=\"dataframe\">\n",
       "  <thead>\n",
       "    <tr style=\"text-align: right;\">\n",
       "      <th></th>\n",
       "      <th>file_name</th>\n",
       "      <th>text</th>\n",
       "      <th>summary</th>\n",
       "      <th>model</th>\n",
       "    </tr>\n",
       "  </thead>\n",
       "  <tbody>\n",
       "    <tr>\n",
       "      <th>0</th>\n",
       "      <td>2020-10-18_6_239897547604.json</td>\n",
       "      <td>Wegen der drastisch steigenden Corona-Zahlen g...</td>\n",
       "      <td>Aufgrund stark steigender Corona-Infektionszah...</td>\n",
       "      <td>mistralai/Mixtral-8x7B-Instruct-v0.1</td>\n",
       "    </tr>\n",
       "    <tr>\n",
       "      <th>1</th>\n",
       "      <td>2021-05-11_6_428561171434.json</td>\n",
       "      <td>Die Züge und Busse des Schweizer Regionalverke...</td>\n",
       "      <td>Laut dem Bericht des Bundesamts für Verkehr (B...</td>\n",
       "      <td>mistralai/Mixtral-8x7B-Instruct-v0.1</td>\n",
       "    </tr>\n",
       "    <tr>\n",
       "      <th>2</th>\n",
       "      <td>2021-12-10_6_678900728110.json</td>\n",
       "      <td>Ein News-Scout aus Blonay VD war um acht Uhr m...</td>\n",
       "      <td>Am Morgen des Tages war die Autobahn in Richtu...</td>\n",
       "      <td>mistralai/Mixtral-8x7B-Instruct-v0.1</td>\n",
       "    </tr>\n",
       "    <tr>\n",
       "      <th>3</th>\n",
       "      <td>2020-04-15_6_670941183943.json</td>\n",
       "      <td>Waschmaschinen wissen, was sie tun. 90 Minuten...</td>\n",
       "      <td>Der Artikel beschäftigt sich mit der Frage, wa...</td>\n",
       "      <td>mistralai/Mixtral-8x7B-Instruct-v0.1</td>\n",
       "    </tr>\n",
       "    <tr>\n",
       "      <th>4</th>\n",
       "      <td>2020-07-29_6_777680273630.json</td>\n",
       "      <td>Die in Dubai ansässige Airline Emirates will i...</td>\n",
       "      <td>Emirates mit Sitz in Dubai hat eine kostenlose...</td>\n",
       "      <td>mistralai/Mixtral-8x7B-Instruct-v0.1</td>\n",
       "    </tr>\n",
       "    <tr>\n",
       "      <th>...</th>\n",
       "      <td>...</td>\n",
       "      <td>...</td>\n",
       "      <td>...</td>\n",
       "      <td>...</td>\n",
       "    </tr>\n",
       "    <tr>\n",
       "      <th>495</th>\n",
       "      <td>2021-08-24_6_804609690909.json</td>\n",
       "      <td>Die Schweizer Fluggesellschaft Swiss führt ein...</td>\n",
       "      <td>Swiss airline introduces a COVID-19 vaccinatio...</td>\n",
       "      <td>mistralai/Mixtral-8x7B-Instruct-v0.1</td>\n",
       "    </tr>\n",
       "    <tr>\n",
       "      <th>496</th>\n",
       "      <td>2021-07-23_6_186662834378.json</td>\n",
       "      <td>Ein Raiffeisen-Banker und seine Ehefrau dürfen...</td>\n",
       "      <td>A client in Baselland bequeathed 210'000 Swiss...</td>\n",
       "      <td>mistralai/Mixtral-8x7B-Instruct-v0.1</td>\n",
       "    </tr>\n",
       "    <tr>\n",
       "      <th>497</th>\n",
       "      <td>2020-04-14_6_667667443469.json</td>\n",
       "      <td>Der junge Alphirt Erwin Ramsauer verschwand am...</td>\n",
       "      <td>Alpworker Erwin Ramsauer disappeared on Septem...</td>\n",
       "      <td>mistralai/Mixtral-8x7B-Instruct-v0.1</td>\n",
       "    </tr>\n",
       "    <tr>\n",
       "      <th>498</th>\n",
       "      <td>2020-04-15_6_491496211151.json</td>\n",
       "      <td>Keine Woche ohne Auto-Schlagzeilen mit Justin ...</td>\n",
       "      <td>Justin Bieber und Hailey Baldwin erleben Autop...</td>\n",
       "      <td>mistralai/Mixtral-8x7B-Instruct-v0.1</td>\n",
       "    </tr>\n",
       "    <tr>\n",
       "      <th>499</th>\n",
       "      <td>2021-02-19_6_480708039099.json</td>\n",
       "      <td>Wenn es um Medizin geht, können wir von Glück ...</td>\n",
       "      <td>In the past, some unusual medical methods were...</td>\n",
       "      <td>mistralai/Mixtral-8x7B-Instruct-v0.1</td>\n",
       "    </tr>\n",
       "  </tbody>\n",
       "</table>\n",
       "<p>500 rows × 4 columns</p>\n",
       "</div>"
      ],
      "text/plain": [
       "                          file_name  \\\n",
       "0    2020-10-18_6_239897547604.json   \n",
       "1    2021-05-11_6_428561171434.json   \n",
       "2    2021-12-10_6_678900728110.json   \n",
       "3    2020-04-15_6_670941183943.json   \n",
       "4    2020-07-29_6_777680273630.json   \n",
       "..                              ...   \n",
       "495  2021-08-24_6_804609690909.json   \n",
       "496  2021-07-23_6_186662834378.json   \n",
       "497  2020-04-14_6_667667443469.json   \n",
       "498  2020-04-15_6_491496211151.json   \n",
       "499  2021-02-19_6_480708039099.json   \n",
       "\n",
       "                                                  text  \\\n",
       "0    Wegen der drastisch steigenden Corona-Zahlen g...   \n",
       "1    Die Züge und Busse des Schweizer Regionalverke...   \n",
       "2    Ein News-Scout aus Blonay VD war um acht Uhr m...   \n",
       "3    Waschmaschinen wissen, was sie tun. 90 Minuten...   \n",
       "4    Die in Dubai ansässige Airline Emirates will i...   \n",
       "..                                                 ...   \n",
       "495  Die Schweizer Fluggesellschaft Swiss führt ein...   \n",
       "496  Ein Raiffeisen-Banker und seine Ehefrau dürfen...   \n",
       "497  Der junge Alphirt Erwin Ramsauer verschwand am...   \n",
       "498  Keine Woche ohne Auto-Schlagzeilen mit Justin ...   \n",
       "499  Wenn es um Medizin geht, können wir von Glück ...   \n",
       "\n",
       "                                               summary  \\\n",
       "0    Aufgrund stark steigender Corona-Infektionszah...   \n",
       "1    Laut dem Bericht des Bundesamts für Verkehr (B...   \n",
       "2    Am Morgen des Tages war die Autobahn in Richtu...   \n",
       "3    Der Artikel beschäftigt sich mit der Frage, wa...   \n",
       "4    Emirates mit Sitz in Dubai hat eine kostenlose...   \n",
       "..                                                 ...   \n",
       "495  Swiss airline introduces a COVID-19 vaccinatio...   \n",
       "496  A client in Baselland bequeathed 210'000 Swiss...   \n",
       "497  Alpworker Erwin Ramsauer disappeared on Septem...   \n",
       "498  Justin Bieber und Hailey Baldwin erleben Autop...   \n",
       "499  In the past, some unusual medical methods were...   \n",
       "\n",
       "                                    model  \n",
       "0    mistralai/Mixtral-8x7B-Instruct-v0.1  \n",
       "1    mistralai/Mixtral-8x7B-Instruct-v0.1  \n",
       "2    mistralai/Mixtral-8x7B-Instruct-v0.1  \n",
       "3    mistralai/Mixtral-8x7B-Instruct-v0.1  \n",
       "4    mistralai/Mixtral-8x7B-Instruct-v0.1  \n",
       "..                                    ...  \n",
       "495  mistralai/Mixtral-8x7B-Instruct-v0.1  \n",
       "496  mistralai/Mixtral-8x7B-Instruct-v0.1  \n",
       "497  mistralai/Mixtral-8x7B-Instruct-v0.1  \n",
       "498  mistralai/Mixtral-8x7B-Instruct-v0.1  \n",
       "499  mistralai/Mixtral-8x7B-Instruct-v0.1  \n",
       "\n",
       "[500 rows x 4 columns]"
      ]
     },
     "execution_count": 3,
     "metadata": {},
     "output_type": "execute_result"
    }
   ],
   "source": [
    "summary_df = pd.read_csv(SUMMARY_CSV_FILENAME)\n",
    "summary_df"
   ]
  },
  {
   "cell_type": "markdown",
   "metadata": {},
   "source": [
    "### Satzpaare erstellen"
   ]
  },
  {
   "cell_type": "code",
   "execution_count": null,
   "metadata": {},
   "outputs": [],
   "source": [
    "USED_COLUMNS = [\"file_name\",\"sentence_id\",\"text\",\"sentence\",\"model\"]"
   ]
  },
  {
   "cell_type": "code",
   "execution_count": null,
   "metadata": {},
   "outputs": [
    {
     "data": {
      "text/html": [
       "<div>\n",
       "<style scoped>\n",
       "    .dataframe tbody tr th:only-of-type {\n",
       "        vertical-align: middle;\n",
       "    }\n",
       "\n",
       "    .dataframe tbody tr th {\n",
       "        vertical-align: top;\n",
       "    }\n",
       "\n",
       "    .dataframe thead th {\n",
       "        text-align: right;\n",
       "    }\n",
       "</style>\n",
       "<table border=\"1\" class=\"dataframe\">\n",
       "  <thead>\n",
       "    <tr style=\"text-align: right;\">\n",
       "      <th></th>\n",
       "      <th>file_name</th>\n",
       "      <th>sentence_id</th>\n",
       "      <th>text</th>\n",
       "      <th>sentence</th>\n",
       "      <th>model</th>\n",
       "    </tr>\n",
       "  </thead>\n",
       "  <tbody>\n",
       "  </tbody>\n",
       "</table>\n",
       "</div>"
      ],
      "text/plain": [
       "Empty DataFrame\n",
       "Columns: [file_name, sentence_id, text, sentence, model]\n",
       "Index: []"
      ]
     },
     "execution_count": 36,
     "metadata": {},
     "output_type": "execute_result"
    }
   ],
   "source": [
    "sentence_pair_df = pd.DataFrame(columns=USED_COLUMNS)\n",
    "sentence_pair_df"
   ]
  },
  {
   "cell_type": "code",
   "execution_count": 38,
   "metadata": {},
   "outputs": [],
   "source": [
    "def split_to_sentence_pairs(row_elem):\n",
    "    print(row_elem[\"file_name\"])\n",
    "    print(row_elem[\"summary\"])\n",
    "\n",
    "    # split summary into sentences\n",
    "    sentences = re.split(r'([.!?])', row_elem[\"summary\"])\n",
    "\n",
    "    # combine punctuation back with sentence\n",
    "    for i in range(len(sentences)):\n",
    "        if sentences[i] not in \".!?\":\n",
    "            sentences[i] += sentences[i+1]\n",
    "\n",
    "    # remove unwanted characters\n",
    "    sentences = [elem.lstrip() for elem in sentences if elem not in \" .!?\"]\n",
    "    print(sentences)\n",
    "\n",
    "    rows = []\n",
    "    for i, sentence in enumerate(sentences):\n",
    "        new_row = {\n",
    "            \"file_name\": row_elem[\"file_name\"],\n",
    "            \"sentence_id\": i+1,\n",
    "            \"text\": row_elem[\"text\"],\n",
    "            \"sentence\": sentence,\n",
    "            \"model\": row_elem[\"model\"]\n",
    "            }\n",
    "        rows.append(new_row)\n",
    "\n",
    "    return rows"
   ]
  },
  {
   "cell_type": "code",
   "execution_count": 39,
   "metadata": {},
   "outputs": [
    {
     "name": "stdout",
     "output_type": "stream",
     "text": [
      "2020-10-18_6_239897547604.json\n",
      "Aufgrund stark steigender Corona-Infektionszahlen wurde in Paris und anderen Städten Frankreichs eine nächtliche Ausgangssperre eingeführt, die von 21 Uhr abends bis 6 Uhr morgens gilt und für mehrere Wochen in Kraft bleibt. Ausnahmen von der Ausgangssperre gelten für ausgewiesene triftige Gründe wie Arbeitswege, medizinische Notfälle, Pflege von Angehörigen oder Betreuung von Kindern. Verstöße gegen die Ausgangssperre werden mit Geldbußen von 135 Euro geahndet. Betroffen sind neben dem Großraum Paris die Städte Lille, Grenoble, Lyon, Aix-Marseille, Montpellier, Rouen, Toulouse und Saint-Étienne. Gastronomen kritisieren die Maßnahme scharf und klagen über massive Einnahmeverluste.\n",
      "['Aufgrund stark steigender Corona-Infektionszahlen wurde in Paris und anderen Städten Frankreichs eine nächtliche Ausgangssperre eingeführt, die von 21 Uhr abends bis 6 Uhr morgens gilt und für mehrere Wochen in Kraft bleibt.', 'Ausnahmen von der Ausgangssperre gelten für ausgewiesene triftige Gründe wie Arbeitswege, medizinische Notfälle, Pflege von Angehörigen oder Betreuung von Kindern.', 'Verstöße gegen die Ausgangssperre werden mit Geldbußen von 135 Euro geahndet.', 'Betroffen sind neben dem Großraum Paris die Städte Lille, Grenoble, Lyon, Aix-Marseille, Montpellier, Rouen, Toulouse und Saint-Étienne.', 'Gastronomen kritisieren die Maßnahme scharf und klagen über massive Einnahmeverluste.']\n"
     ]
    },
    {
     "data": {
      "text/plain": [
       "[{'file_name': '2020-10-18_6_239897547604.json',\n",
       "  'sentence_id': 1,\n",
       "  'text': \"Wegen der drastisch steigenden Corona-Zahlen gilt in Paris und anderen französischen Städten nun eine nächtliche Ausgangssperre. Die neue Regelung trat in der Nacht zu Samstag um Mitternacht in Kraft. Die Ausgangssperre gilt für mehrere Wochen zwischen 21 Uhr abends und 6 Uhr morgens. Zu dieser Zeit dürfen sich Menschen nur aus einem triftigen Grund vor der Tür aufhalten. Auch ein Gesundheitsnotstand ist seit diesem Samstag wieder in Kraft. Mit ihm kann die Regierung Einschränkungen per Verordnung durchsetzen. Besondere Sorge weg Coronavirus in grossen Städten Frankreich kämpft seit Wochen mit steigenden Corona-Zahlen. Am Samstag wurden binnen 24 Stunden mehr als 32'000 neue Infektionen mit dem Coronavirus gemeldet - ein Spitzenwert. Besondere Sorge herrscht über die Auslastung der Intensivstationen in grossen Städten wie Paris. Immer mehr Covid-19-Patienten belegen dort die Betten. Das Pariser Innenministerium veröffentlichte am Freitagabend ein Formular, das jeder ausgefüllt bei sich tragen soll, der während der Ausgangssperre vor die Tür muss. Folgende Ausnahmen können unter anderem darauf angeben werden: Arbeitsweg, medizinische Notfälle, Pflege von Angehörigen oder Betreuung von Kindern oder Weg zum Flughafen oder Bahnhof für Langstreckenreisen. Auch das Gassigehen mit dem Hund ist erlaubt - allerdings nur im Radius von einem Kilometer zur Wohnung. Hohe Bussen sind möglich Wer sich nun nicht an die neuen Beschränkungen hält, muss 135 Euro (rund 145 Franken) Strafe zahlen - für Wiederholungstäter können Tausende Euro fällig werden. 12'000 Polizisten sollen die Einhaltung der Regeln kontrollieren. Von den Ausgangssperren sind neben dem Grossraum Paris die Städte Lille, Grenoble, Lyon, Aix-Marseille, Montpellier, Rouen, Toulouse und Saint-Etienne betroffen. Gastronomen haben die Massnahme massiv kritisiert. Sie mussten bereits im Frühjahr wochenlang schliessen und beklagen nun wieder heftige Einnahmeverluste. «Es ist der Tod der Restaurants in Paris am Abend. In der Hauptstadt kommen die Leute um 21 Uhr im Restaurant an, wir essen hier nicht mit den Hühnern. Eine sehr grosse Mehrheit der Betriebe wird daher am Abend, gegen 18 Uhr, schliessen», sagte der Präsident des Hotel- und Gaststättenverbands Umih Ile de France, Frank Delvau, der Zeitung «Le Figaro».\",\n",
       "  'sentence': 'Aufgrund stark steigender Corona-Infektionszahlen wurde in Paris und anderen Städten Frankreichs eine nächtliche Ausgangssperre eingeführt, die von 21 Uhr abends bis 6 Uhr morgens gilt und für mehrere Wochen in Kraft bleibt.',\n",
       "  'model': 'mistralai/Mixtral-8x7B-Instruct-v0.1'},\n",
       " {'file_name': '2020-10-18_6_239897547604.json',\n",
       "  'sentence_id': 2,\n",
       "  'text': \"Wegen der drastisch steigenden Corona-Zahlen gilt in Paris und anderen französischen Städten nun eine nächtliche Ausgangssperre. Die neue Regelung trat in der Nacht zu Samstag um Mitternacht in Kraft. Die Ausgangssperre gilt für mehrere Wochen zwischen 21 Uhr abends und 6 Uhr morgens. Zu dieser Zeit dürfen sich Menschen nur aus einem triftigen Grund vor der Tür aufhalten. Auch ein Gesundheitsnotstand ist seit diesem Samstag wieder in Kraft. Mit ihm kann die Regierung Einschränkungen per Verordnung durchsetzen. Besondere Sorge weg Coronavirus in grossen Städten Frankreich kämpft seit Wochen mit steigenden Corona-Zahlen. Am Samstag wurden binnen 24 Stunden mehr als 32'000 neue Infektionen mit dem Coronavirus gemeldet - ein Spitzenwert. Besondere Sorge herrscht über die Auslastung der Intensivstationen in grossen Städten wie Paris. Immer mehr Covid-19-Patienten belegen dort die Betten. Das Pariser Innenministerium veröffentlichte am Freitagabend ein Formular, das jeder ausgefüllt bei sich tragen soll, der während der Ausgangssperre vor die Tür muss. Folgende Ausnahmen können unter anderem darauf angeben werden: Arbeitsweg, medizinische Notfälle, Pflege von Angehörigen oder Betreuung von Kindern oder Weg zum Flughafen oder Bahnhof für Langstreckenreisen. Auch das Gassigehen mit dem Hund ist erlaubt - allerdings nur im Radius von einem Kilometer zur Wohnung. Hohe Bussen sind möglich Wer sich nun nicht an die neuen Beschränkungen hält, muss 135 Euro (rund 145 Franken) Strafe zahlen - für Wiederholungstäter können Tausende Euro fällig werden. 12'000 Polizisten sollen die Einhaltung der Regeln kontrollieren. Von den Ausgangssperren sind neben dem Grossraum Paris die Städte Lille, Grenoble, Lyon, Aix-Marseille, Montpellier, Rouen, Toulouse und Saint-Etienne betroffen. Gastronomen haben die Massnahme massiv kritisiert. Sie mussten bereits im Frühjahr wochenlang schliessen und beklagen nun wieder heftige Einnahmeverluste. «Es ist der Tod der Restaurants in Paris am Abend. In der Hauptstadt kommen die Leute um 21 Uhr im Restaurant an, wir essen hier nicht mit den Hühnern. Eine sehr grosse Mehrheit der Betriebe wird daher am Abend, gegen 18 Uhr, schliessen», sagte der Präsident des Hotel- und Gaststättenverbands Umih Ile de France, Frank Delvau, der Zeitung «Le Figaro».\",\n",
       "  'sentence': 'Ausnahmen von der Ausgangssperre gelten für ausgewiesene triftige Gründe wie Arbeitswege, medizinische Notfälle, Pflege von Angehörigen oder Betreuung von Kindern.',\n",
       "  'model': 'mistralai/Mixtral-8x7B-Instruct-v0.1'},\n",
       " {'file_name': '2020-10-18_6_239897547604.json',\n",
       "  'sentence_id': 3,\n",
       "  'text': \"Wegen der drastisch steigenden Corona-Zahlen gilt in Paris und anderen französischen Städten nun eine nächtliche Ausgangssperre. Die neue Regelung trat in der Nacht zu Samstag um Mitternacht in Kraft. Die Ausgangssperre gilt für mehrere Wochen zwischen 21 Uhr abends und 6 Uhr morgens. Zu dieser Zeit dürfen sich Menschen nur aus einem triftigen Grund vor der Tür aufhalten. Auch ein Gesundheitsnotstand ist seit diesem Samstag wieder in Kraft. Mit ihm kann die Regierung Einschränkungen per Verordnung durchsetzen. Besondere Sorge weg Coronavirus in grossen Städten Frankreich kämpft seit Wochen mit steigenden Corona-Zahlen. Am Samstag wurden binnen 24 Stunden mehr als 32'000 neue Infektionen mit dem Coronavirus gemeldet - ein Spitzenwert. Besondere Sorge herrscht über die Auslastung der Intensivstationen in grossen Städten wie Paris. Immer mehr Covid-19-Patienten belegen dort die Betten. Das Pariser Innenministerium veröffentlichte am Freitagabend ein Formular, das jeder ausgefüllt bei sich tragen soll, der während der Ausgangssperre vor die Tür muss. Folgende Ausnahmen können unter anderem darauf angeben werden: Arbeitsweg, medizinische Notfälle, Pflege von Angehörigen oder Betreuung von Kindern oder Weg zum Flughafen oder Bahnhof für Langstreckenreisen. Auch das Gassigehen mit dem Hund ist erlaubt - allerdings nur im Radius von einem Kilometer zur Wohnung. Hohe Bussen sind möglich Wer sich nun nicht an die neuen Beschränkungen hält, muss 135 Euro (rund 145 Franken) Strafe zahlen - für Wiederholungstäter können Tausende Euro fällig werden. 12'000 Polizisten sollen die Einhaltung der Regeln kontrollieren. Von den Ausgangssperren sind neben dem Grossraum Paris die Städte Lille, Grenoble, Lyon, Aix-Marseille, Montpellier, Rouen, Toulouse und Saint-Etienne betroffen. Gastronomen haben die Massnahme massiv kritisiert. Sie mussten bereits im Frühjahr wochenlang schliessen und beklagen nun wieder heftige Einnahmeverluste. «Es ist der Tod der Restaurants in Paris am Abend. In der Hauptstadt kommen die Leute um 21 Uhr im Restaurant an, wir essen hier nicht mit den Hühnern. Eine sehr grosse Mehrheit der Betriebe wird daher am Abend, gegen 18 Uhr, schliessen», sagte der Präsident des Hotel- und Gaststättenverbands Umih Ile de France, Frank Delvau, der Zeitung «Le Figaro».\",\n",
       "  'sentence': 'Verstöße gegen die Ausgangssperre werden mit Geldbußen von 135 Euro geahndet.',\n",
       "  'model': 'mistralai/Mixtral-8x7B-Instruct-v0.1'},\n",
       " {'file_name': '2020-10-18_6_239897547604.json',\n",
       "  'sentence_id': 4,\n",
       "  'text': \"Wegen der drastisch steigenden Corona-Zahlen gilt in Paris und anderen französischen Städten nun eine nächtliche Ausgangssperre. Die neue Regelung trat in der Nacht zu Samstag um Mitternacht in Kraft. Die Ausgangssperre gilt für mehrere Wochen zwischen 21 Uhr abends und 6 Uhr morgens. Zu dieser Zeit dürfen sich Menschen nur aus einem triftigen Grund vor der Tür aufhalten. Auch ein Gesundheitsnotstand ist seit diesem Samstag wieder in Kraft. Mit ihm kann die Regierung Einschränkungen per Verordnung durchsetzen. Besondere Sorge weg Coronavirus in grossen Städten Frankreich kämpft seit Wochen mit steigenden Corona-Zahlen. Am Samstag wurden binnen 24 Stunden mehr als 32'000 neue Infektionen mit dem Coronavirus gemeldet - ein Spitzenwert. Besondere Sorge herrscht über die Auslastung der Intensivstationen in grossen Städten wie Paris. Immer mehr Covid-19-Patienten belegen dort die Betten. Das Pariser Innenministerium veröffentlichte am Freitagabend ein Formular, das jeder ausgefüllt bei sich tragen soll, der während der Ausgangssperre vor die Tür muss. Folgende Ausnahmen können unter anderem darauf angeben werden: Arbeitsweg, medizinische Notfälle, Pflege von Angehörigen oder Betreuung von Kindern oder Weg zum Flughafen oder Bahnhof für Langstreckenreisen. Auch das Gassigehen mit dem Hund ist erlaubt - allerdings nur im Radius von einem Kilometer zur Wohnung. Hohe Bussen sind möglich Wer sich nun nicht an die neuen Beschränkungen hält, muss 135 Euro (rund 145 Franken) Strafe zahlen - für Wiederholungstäter können Tausende Euro fällig werden. 12'000 Polizisten sollen die Einhaltung der Regeln kontrollieren. Von den Ausgangssperren sind neben dem Grossraum Paris die Städte Lille, Grenoble, Lyon, Aix-Marseille, Montpellier, Rouen, Toulouse und Saint-Etienne betroffen. Gastronomen haben die Massnahme massiv kritisiert. Sie mussten bereits im Frühjahr wochenlang schliessen und beklagen nun wieder heftige Einnahmeverluste. «Es ist der Tod der Restaurants in Paris am Abend. In der Hauptstadt kommen die Leute um 21 Uhr im Restaurant an, wir essen hier nicht mit den Hühnern. Eine sehr grosse Mehrheit der Betriebe wird daher am Abend, gegen 18 Uhr, schliessen», sagte der Präsident des Hotel- und Gaststättenverbands Umih Ile de France, Frank Delvau, der Zeitung «Le Figaro».\",\n",
       "  'sentence': 'Betroffen sind neben dem Großraum Paris die Städte Lille, Grenoble, Lyon, Aix-Marseille, Montpellier, Rouen, Toulouse und Saint-Étienne.',\n",
       "  'model': 'mistralai/Mixtral-8x7B-Instruct-v0.1'},\n",
       " {'file_name': '2020-10-18_6_239897547604.json',\n",
       "  'sentence_id': 5,\n",
       "  'text': \"Wegen der drastisch steigenden Corona-Zahlen gilt in Paris und anderen französischen Städten nun eine nächtliche Ausgangssperre. Die neue Regelung trat in der Nacht zu Samstag um Mitternacht in Kraft. Die Ausgangssperre gilt für mehrere Wochen zwischen 21 Uhr abends und 6 Uhr morgens. Zu dieser Zeit dürfen sich Menschen nur aus einem triftigen Grund vor der Tür aufhalten. Auch ein Gesundheitsnotstand ist seit diesem Samstag wieder in Kraft. Mit ihm kann die Regierung Einschränkungen per Verordnung durchsetzen. Besondere Sorge weg Coronavirus in grossen Städten Frankreich kämpft seit Wochen mit steigenden Corona-Zahlen. Am Samstag wurden binnen 24 Stunden mehr als 32'000 neue Infektionen mit dem Coronavirus gemeldet - ein Spitzenwert. Besondere Sorge herrscht über die Auslastung der Intensivstationen in grossen Städten wie Paris. Immer mehr Covid-19-Patienten belegen dort die Betten. Das Pariser Innenministerium veröffentlichte am Freitagabend ein Formular, das jeder ausgefüllt bei sich tragen soll, der während der Ausgangssperre vor die Tür muss. Folgende Ausnahmen können unter anderem darauf angeben werden: Arbeitsweg, medizinische Notfälle, Pflege von Angehörigen oder Betreuung von Kindern oder Weg zum Flughafen oder Bahnhof für Langstreckenreisen. Auch das Gassigehen mit dem Hund ist erlaubt - allerdings nur im Radius von einem Kilometer zur Wohnung. Hohe Bussen sind möglich Wer sich nun nicht an die neuen Beschränkungen hält, muss 135 Euro (rund 145 Franken) Strafe zahlen - für Wiederholungstäter können Tausende Euro fällig werden. 12'000 Polizisten sollen die Einhaltung der Regeln kontrollieren. Von den Ausgangssperren sind neben dem Grossraum Paris die Städte Lille, Grenoble, Lyon, Aix-Marseille, Montpellier, Rouen, Toulouse und Saint-Etienne betroffen. Gastronomen haben die Massnahme massiv kritisiert. Sie mussten bereits im Frühjahr wochenlang schliessen und beklagen nun wieder heftige Einnahmeverluste. «Es ist der Tod der Restaurants in Paris am Abend. In der Hauptstadt kommen die Leute um 21 Uhr im Restaurant an, wir essen hier nicht mit den Hühnern. Eine sehr grosse Mehrheit der Betriebe wird daher am Abend, gegen 18 Uhr, schliessen», sagte der Präsident des Hotel- und Gaststättenverbands Umih Ile de France, Frank Delvau, der Zeitung «Le Figaro».\",\n",
       "  'sentence': 'Gastronomen kritisieren die Maßnahme scharf und klagen über massive Einnahmeverluste.',\n",
       "  'model': 'mistralai/Mixtral-8x7B-Instruct-v0.1'}]"
      ]
     },
     "execution_count": 39,
     "metadata": {},
     "output_type": "execute_result"
    }
   ],
   "source": [
    "split_to_sentence_pairs(summary_df.loc[0])"
   ]
  },
  {
   "cell_type": "code",
   "execution_count": 41,
   "metadata": {},
   "outputs": [
    {
     "name": "stdout",
     "output_type": "stream",
     "text": [
      "2020-10-18_6_239897547604.json\n",
      "Aufgrund stark steigender Corona-Infektionszahlen wurde in Paris und anderen Städten Frankreichs eine nächtliche Ausgangssperre eingeführt, die von 21 Uhr abends bis 6 Uhr morgens gilt und für mehrere Wochen in Kraft bleibt. Ausnahmen von der Ausgangssperre gelten für ausgewiesene triftige Gründe wie Arbeitswege, medizinische Notfälle, Pflege von Angehörigen oder Betreuung von Kindern. Verstöße gegen die Ausgangssperre werden mit Geldbußen von 135 Euro geahndet. Betroffen sind neben dem Großraum Paris die Städte Lille, Grenoble, Lyon, Aix-Marseille, Montpellier, Rouen, Toulouse und Saint-Étienne. Gastronomen kritisieren die Maßnahme scharf und klagen über massive Einnahmeverluste.\n",
      "['Aufgrund stark steigender Corona-Infektionszahlen wurde in Paris und anderen Städten Frankreichs eine nächtliche Ausgangssperre eingeführt, die von 21 Uhr abends bis 6 Uhr morgens gilt und für mehrere Wochen in Kraft bleibt.', 'Ausnahmen von der Ausgangssperre gelten für ausgewiesene triftige Gründe wie Arbeitswege, medizinische Notfälle, Pflege von Angehörigen oder Betreuung von Kindern.', 'Verstöße gegen die Ausgangssperre werden mit Geldbußen von 135 Euro geahndet.', 'Betroffen sind neben dem Großraum Paris die Städte Lille, Grenoble, Lyon, Aix-Marseille, Montpellier, Rouen, Toulouse und Saint-Étienne.', 'Gastronomen kritisieren die Maßnahme scharf und klagen über massive Einnahmeverluste.']\n"
     ]
    },
    {
     "ename": "AttributeError",
     "evalue": "'DataFrame' object has no attribute 'append'",
     "output_type": "error",
     "traceback": [
      "\u001b[0;31m---------------------------------------------------------------------------\u001b[0m",
      "\u001b[0;31mAttributeError\u001b[0m                            Traceback (most recent call last)",
      "\u001b[0;32m/tmp/ipykernel_4335/735048720.py\u001b[0m in \u001b[0;36m?\u001b[0;34m()\u001b[0m\n\u001b[1;32m      2\u001b[0m     \u001b[0mnew_rows\u001b[0m \u001b[0;34m=\u001b[0m \u001b[0msplit_to_sentence_pairs\u001b[0m\u001b[0;34m(\u001b[0m\u001b[0mrow\u001b[0m\u001b[0;34m)\u001b[0m\u001b[0;34m\u001b[0m\u001b[0;34m\u001b[0m\u001b[0m\n\u001b[1;32m      3\u001b[0m \u001b[0;34m\u001b[0m\u001b[0m\n\u001b[1;32m      4\u001b[0m     \u001b[0;31m# Appending the new row\u001b[0m\u001b[0;34m\u001b[0m\u001b[0;34m\u001b[0m\u001b[0m\n\u001b[1;32m      5\u001b[0m     \u001b[0;32mfor\u001b[0m \u001b[0mnew_row\u001b[0m \u001b[0;32min\u001b[0m \u001b[0mnew_rows\u001b[0m\u001b[0;34m:\u001b[0m\u001b[0;34m\u001b[0m\u001b[0;34m\u001b[0m\u001b[0m\n\u001b[0;32m----> 6\u001b[0;31m         \u001b[0msentence_pair_df\u001b[0m \u001b[0;34m=\u001b[0m \u001b[0msentence_pair_df\u001b[0m\u001b[0;34m.\u001b[0m\u001b[0mappend\u001b[0m\u001b[0;34m(\u001b[0m\u001b[0mnew_row\u001b[0m\u001b[0;34m,\u001b[0m \u001b[0mignore_index\u001b[0m\u001b[0;34m=\u001b[0m\u001b[0;32mTrue\u001b[0m\u001b[0;34m)\u001b[0m\u001b[0;34m\u001b[0m\u001b[0;34m\u001b[0m\u001b[0m\n\u001b[0m",
      "\u001b[0;32m/workspaces/dev/venv/lib/python3.12/site-packages/pandas/core/generic.py\u001b[0m in \u001b[0;36m?\u001b[0;34m(self, name)\u001b[0m\n\u001b[1;32m   6295\u001b[0m             \u001b[0;32mand\u001b[0m \u001b[0mname\u001b[0m \u001b[0;32mnot\u001b[0m \u001b[0;32min\u001b[0m \u001b[0mself\u001b[0m\u001b[0;34m.\u001b[0m\u001b[0m_accessors\u001b[0m\u001b[0;34m\u001b[0m\u001b[0;34m\u001b[0m\u001b[0m\n\u001b[1;32m   6296\u001b[0m             \u001b[0;32mand\u001b[0m \u001b[0mself\u001b[0m\u001b[0;34m.\u001b[0m\u001b[0m_info_axis\u001b[0m\u001b[0;34m.\u001b[0m\u001b[0m_can_hold_identifiers_and_holds_name\u001b[0m\u001b[0;34m(\u001b[0m\u001b[0mname\u001b[0m\u001b[0;34m)\u001b[0m\u001b[0;34m\u001b[0m\u001b[0;34m\u001b[0m\u001b[0m\n\u001b[1;32m   6297\u001b[0m         \u001b[0;34m)\u001b[0m\u001b[0;34m:\u001b[0m\u001b[0;34m\u001b[0m\u001b[0;34m\u001b[0m\u001b[0m\n\u001b[1;32m   6298\u001b[0m             \u001b[0;32mreturn\u001b[0m \u001b[0mself\u001b[0m\u001b[0;34m[\u001b[0m\u001b[0mname\u001b[0m\u001b[0;34m]\u001b[0m\u001b[0;34m\u001b[0m\u001b[0;34m\u001b[0m\u001b[0m\n\u001b[0;32m-> 6299\u001b[0;31m         \u001b[0;32mreturn\u001b[0m \u001b[0mobject\u001b[0m\u001b[0;34m.\u001b[0m\u001b[0m__getattribute__\u001b[0m\u001b[0;34m(\u001b[0m\u001b[0mself\u001b[0m\u001b[0;34m,\u001b[0m \u001b[0mname\u001b[0m\u001b[0;34m)\u001b[0m\u001b[0;34m\u001b[0m\u001b[0;34m\u001b[0m\u001b[0m\n\u001b[0m",
      "\u001b[0;31mAttributeError\u001b[0m: 'DataFrame' object has no attribute 'append'"
     ]
    }
   ],
   "source": [
    "for i, row in summary_df.iterrows():\n",
    "    new_rows = split_to_sentence_pairs(row)\n",
    "\n",
    "    # Appending the new row\n",
    "    for new_row in new_rows:\n",
    "        sentence_pair_df = sentence_pair_df.append(new_row, ignore_index=True)"
   ]
  }
 ],
 "metadata": {
  "kernelspec": {
   "display_name": "venv",
   "language": "python",
   "name": "python3"
  },
  "language_info": {
   "codemirror_mode": {
    "name": "ipython",
    "version": 3
   },
   "file_extension": ".py",
   "mimetype": "text/x-python",
   "name": "python",
   "nbconvert_exporter": "python",
   "pygments_lexer": "ipython3",
   "version": "3.12.1"
  }
 },
 "nbformat": 4,
 "nbformat_minor": 2
}
